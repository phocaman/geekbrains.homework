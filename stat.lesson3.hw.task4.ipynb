{
 "cells": [
  {
   "cell_type": "code",
   "execution_count": 62,
   "metadata": {},
   "outputs": [],
   "source": [
    "# Устройство состоит из трех деталей.\n",
    "# Для первой детали вероятность выйти из строя в первый месяц равна 0.1, для второй - 0.2, для третьей - 0.25.\n",
    "# Какова вероятность того, что в первый месяц выйдут из строя:\n",
    "# а). все детали б). только две детали в). хотя бы одна деталь г). от одной до двух деталей?"
   ]
  },
  {
   "cell_type": "code",
   "execution_count": 63,
   "metadata": {},
   "outputs": [],
   "source": [
    "import math"
   ]
  },
  {
   "cell_type": "code",
   "execution_count": 64,
   "metadata": {},
   "outputs": [],
   "source": [
    "def combinations(n, m):\n",
    "    return int(math.factorial(n) / (math.factorial(m) * math.factorial(n - m)))"
   ]
  },
  {
   "cell_type": "code",
   "execution_count": 65,
   "metadata": {},
   "outputs": [],
   "source": [
    "n = 3\n",
    "pa = 1/3\n",
    "pb1 = 0.1\n",
    "pb2 = 0.2\n",
    "pb3 = 0.25\n",
    "m1 = 3\n",
    "m2 = 2\n",
    "m3 = 1\n",
    "# 1 < m4 < 2"
   ]
  },
  {
   "cell_type": "code",
   "execution_count": 66,
   "metadata": {},
   "outputs": [],
   "source": [
    "p = (pa * pb1) + (pa * pb2) + (pa * pb3)"
   ]
  },
  {
   "cell_type": "code",
   "execution_count": 67,
   "metadata": {},
   "outputs": [],
   "source": [
    "q = 1 - p"
   ]
  },
  {
   "cell_type": "code",
   "execution_count": 68,
   "metadata": {},
   "outputs": [
    {
     "name": "stdout",
     "output_type": "stream",
     "text": [
      "Вероятность того, что в первый месяц выйдут из строя все детали:\n",
      "0.0062\n",
      "Вероятность того, что в первый месяц выйдут из строя только две детали:\n",
      "0.0823\n",
      "Вероятность того, что в первый месяц выйдет из строя хотя бы одна деталь:\n",
      "0.3668\n",
      "Вероятность того, что в первый месяц выйдут из строя от одной до двух деталей:\n",
      "0.4492\n"
     ]
    }
   ],
   "source": [
    "p_3_3 = combinations(n, m1) * (p ** m1) * (q ** (n - m1))\n",
    "p_2_3 = combinations(n, m2) * (p ** m2) * (q ** (n - m2))\n",
    "p_1_3 = combinations(n, m3) * (p ** m3) * (q ** (n - m3))\n",
    "p_1_to_2 = p_1_3 + p_2_3\n",
    "print(f'Вероятность того, что в первый месяц выйдут из строя все детали:\\n{p_3_3 :.4f}')\n",
    "print(f'Вероятность того, что в первый месяц выйдут из строя только две детали:\\n{p_2_3 :.4f}')\n",
    "print(f'Вероятность того, что в первый месяц выйдет из строя хотя бы одна деталь:\\n{p_1_3 :.4f}')\n",
    "print(f'Вероятность того, что в первый месяц выйдут из строя от одной до двух деталей:\\n{p_1_to_2 :.4f}')"
   ]
  }
 ],
 "metadata": {
  "kernelspec": {
   "display_name": "Python 3",
   "language": "python",
   "name": "python3"
  },
  "language_info": {
   "codemirror_mode": {
    "name": "ipython",
    "version": 3
   },
   "file_extension": ".py",
   "mimetype": "text/x-python",
   "name": "python",
   "nbconvert_exporter": "python",
   "pygments_lexer": "ipython3",
   "version": "3.8.5"
  }
 },
 "nbformat": 4,
 "nbformat_minor": 4
}
