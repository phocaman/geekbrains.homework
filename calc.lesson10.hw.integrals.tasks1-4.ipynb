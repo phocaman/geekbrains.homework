{
 "cells": [
  {
   "cell_type": "code",
   "execution_count": 14,
   "metadata": {},
   "outputs": [],
   "source": [
    "from sympy import *"
   ]
  },
  {
   "cell_type": "code",
   "execution_count": 15,
   "metadata": {},
   "outputs": [
    {
     "data": {
      "text/latex": [
       "$\\displaystyle \\frac{2 x^{3}}{3} - x^{2} + x \\log{\\left(x \\right)} - 2 x + e^{x} - \\sin{\\left(x \\right)} - \\cos{\\left(x \\right)}$"
      ],
      "text/plain": [
       "2*x**3/3 - x**2 + x*log(x) - 2*x + exp(x) - sin(x) - cos(x)"
      ]
     },
     "execution_count": 15,
     "metadata": {},
     "output_type": "execute_result"
    }
   ],
   "source": [
    "# 1. Найти неопределённый интеграл:\n",
    "# ∫ (2x^2 - 2x - 1 + sinx - cosx + lnx + e^x) dx\n",
    "\n",
    "x = symbols('x')\n",
    "integrate(2*x**2 - 2*x - 1 + sin(x) - cos(x) + log(x) + exp(x), x)"
   ]
  },
  {
   "cell_type": "code",
   "execution_count": 16,
   "metadata": {},
   "outputs": [
    {
     "data": {
      "text/latex": [
       "$\\displaystyle - \\frac{5 x^{3} y}{3} + x^{2} \\left(3 z^{2} + 1\\right) - 3 x \\log{\\left(z \\right)}$"
      ],
      "text/plain": [
       "-5*x**3*y/3 + x**2*(3*z**2 + 1) - 3*x*log(z)"
      ]
     },
     "execution_count": 16,
     "metadata": {},
     "output_type": "execute_result"
    }
   ],
   "source": [
    "# 2. Найти неопределённый интеграл:\n",
    "# ∫ (2x + 6xz^2 - 5x^2y - 3lnz) dx\n",
    "\n",
    "x, y, z = symbols('x y z')\n",
    "integrate(2*x + 6*x*z**2 - 5*x**2*y - 3*ln(z), x)"
   ]
  },
  {
   "cell_type": "code",
   "execution_count": 17,
   "metadata": {},
   "outputs": [
    {
     "data": {
      "text/latex": [
       "$\\displaystyle - \\frac{3 \\pi^{2}}{2}$"
      ],
      "text/plain": [
       "-3*pi**2/2"
      ]
     },
     "execution_count": 17,
     "metadata": {},
     "output_type": "execute_result"
    }
   ],
   "source": [
    "# 3. Найти определённый интеграл:\n",
    "# 0, pi ∫ 3x^2sin2x dx\n",
    "\n",
    "integrate(3*x**2*sin(2*x), (x, 0, pi))"
   ]
  },
  {
   "cell_type": "code",
   "execution_count": 18,
   "metadata": {},
   "outputs": [
    {
     "data": {
      "text/latex": [
       "$\\displaystyle 2 \\sqrt{x + 1}$"
      ],
      "text/plain": [
       "2*sqrt(x + 1)"
      ]
     },
     "execution_count": 18,
     "metadata": {},
     "output_type": "execute_result"
    }
   ],
   "source": [
    "# 4. Найти неопределённый интеграл:\n",
    "# ∫ 1 / V(x+1) dx\n",
    "\n",
    "integrate(1 / sqrt(x + 1), x)"
   ]
  }
 ],
 "metadata": {
  "kernelspec": {
   "display_name": "Python 3",
   "language": "python",
   "name": "python3"
  },
  "language_info": {
   "codemirror_mode": {
    "name": "ipython",
    "version": 3
   },
   "file_extension": ".py",
   "mimetype": "text/x-python",
   "name": "python",
   "nbconvert_exporter": "python",
   "pygments_lexer": "ipython3",
   "version": "3.8.5"
  }
 },
 "nbformat": 4,
 "nbformat_minor": 4
}
