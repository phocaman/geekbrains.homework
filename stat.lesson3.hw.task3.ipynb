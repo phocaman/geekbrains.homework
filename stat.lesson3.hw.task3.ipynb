{
 "cells": [
  {
   "cell_type": "code",
   "execution_count": 1,
   "metadata": {},
   "outputs": [],
   "source": [
    "# 3. В университет на факультеты A и B поступило равное количество студентов,\n",
    "# а на факультет C студентов поступило столько же, сколько на A и B вместе.\n",
    "# Вероятность того, что студент факультета A сдаст первую сессию, равна 0.8.\n",
    "# Для студента факультета B эта вероятность равна 0.7, а для студента факультета C - 0.9.\n",
    "# Студент сдал первую сессию.\n",
    "# Какова вероятность, что он учится: a). на факультете A б). на факультете B в). на факультете C?"
   ]
  },
  {
   "cell_type": "code",
   "execution_count": 2,
   "metadata": {},
   "outputs": [],
   "source": [
    "# Пусть x - доля студентов, учащихся на факультете A.\n",
    "# 2x + x + x = 1\n",
    "x = 1/4"
   ]
  },
  {
   "cell_type": "code",
   "execution_count": 3,
   "metadata": {},
   "outputs": [],
   "source": [
    "pa1 = x\n",
    "pa2 = x\n",
    "pa3 = 2 * x"
   ]
  },
  {
   "cell_type": "code",
   "execution_count": 4,
   "metadata": {},
   "outputs": [],
   "source": [
    "pb1 = 0.8\n",
    "pb2 = 0.7\n",
    "pb3 = 0.9"
   ]
  },
  {
   "cell_type": "code",
   "execution_count": 5,
   "metadata": {},
   "outputs": [],
   "source": [
    "P = (pa1 * pb1) + (pa2 * pb2) + (pa3 * pb3)"
   ]
  },
  {
   "cell_type": "code",
   "execution_count": 6,
   "metadata": {},
   "outputs": [],
   "source": [
    "pc1 = (pa1 * pb1)/P\n",
    "pc2 = (pa2 * pb2)/P\n",
    "pc3 = (pa3 * pb3)/P"
   ]
  },
  {
   "cell_type": "code",
   "execution_count": 7,
   "metadata": {},
   "outputs": [
    {
     "name": "stdout",
     "output_type": "stream",
     "text": [
      "Вероятность того, что студент учится на факультете A:\n",
      "0.2424\n",
      "Вероятность того, что студент учится на факультете B:\n",
      "0.2121\n",
      "Вероятность того, что студент учится на факультете C:\n",
      "0.5455\n"
     ]
    }
   ],
   "source": [
    "print(f'Вероятность того, что студент учится на факультете A:\\n{pc1 :.4f}')\n",
    "print(f'Вероятность того, что студент учится на факультете B:\\n{pc2 :.4f}')\n",
    "print(f'Вероятность того, что студент учится на факультете C:\\n{pc3 :.4f}')"
   ]
  }
 ],
 "metadata": {
  "kernelspec": {
   "display_name": "Python 3",
   "language": "python",
   "name": "python3"
  },
  "language_info": {
   "codemirror_mode": {
    "name": "ipython",
    "version": 3
   },
   "file_extension": ".py",
   "mimetype": "text/x-python",
   "name": "python",
   "nbconvert_exporter": "python",
   "pygments_lexer": "ipython3",
   "version": "3.8.5"
  }
 },
 "nbformat": 4,
 "nbformat_minor": 4
}
