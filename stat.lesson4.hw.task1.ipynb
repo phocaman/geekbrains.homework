{
 "cells": [
  {
   "cell_type": "code",
   "execution_count": 1,
   "metadata": {},
   "outputs": [],
   "source": [
    "# 1. Случайная непрерывная величина A имеет равномерное распределение на промежутке (200, 800].\n",
    "# Найдите ее среднее значение и дисперсию."
   ]
  },
  {
   "cell_type": "code",
   "execution_count": 2,
   "metadata": {},
   "outputs": [
    {
     "name": "stdout",
     "output_type": "stream",
     "text": [
      "Математическое ожидание (среднее значение):\n",
      "500.0\n",
      "Дисперсия:\n",
      "30000.0\n"
     ]
    }
   ],
   "source": [
    "a = 200\n",
    "b = 800\n",
    "m_A = (a + b) / 2\n",
    "d_A = ((b - a) ** 2) / 12\n",
    "print(f'Математическое ожидание (среднее значение):\\n{m_A}')\n",
    "print(f'Дисперсия:\\n{d_A}')"
   ]
  }
 ],
 "metadata": {
  "kernelspec": {
   "display_name": "Python 3",
   "language": "python",
   "name": "python3"
  },
  "language_info": {
   "codemirror_mode": {
    "name": "ipython",
    "version": 3
   },
   "file_extension": ".py",
   "mimetype": "text/x-python",
   "name": "python",
   "nbconvert_exporter": "python",
   "pygments_lexer": "ipython3",
   "version": "3.8.5"
  }
 },
 "nbformat": 4,
 "nbformat_minor": 4
}
