{
 "cells": [
  {
   "cell_type": "code",
   "execution_count": 13,
   "metadata": {},
   "outputs": [],
   "source": [
    "# 4. Дана система линейных уравнений, заданная расширенной матрицей. Найти соотношение между параметрами 𝑎, 𝑏 и 𝑐,\n",
    "# при которых система является несовместной."
   ]
  },
  {
   "cell_type": "code",
   "execution_count": 14,
   "metadata": {},
   "outputs": [],
   "source": [
    "# Система несовместна, если ранг расширенной матрицы больше ранга матрицы системы.\n",
    "# Данная система является несовместной, если два любых параметра из трёх равны нулю, а третий является любым вещественным числом,\n",
    "# не равным нулю."
   ]
  },
  {
   "cell_type": "code",
   "execution_count": 15,
   "metadata": {},
   "outputs": [],
   "source": [
    "from sympy import *"
   ]
  },
  {
   "cell_type": "code",
   "execution_count": 16,
   "metadata": {},
   "outputs": [],
   "source": [
    "a = Matrix([[1, 2, 3], [4, 5, 6], [7, 8, 9]])\n",
    "ab = Matrix([[1, 2, 3, 1], [4, 5, 6, 0], [7, 8, 9, 0]])"
   ]
  },
  {
   "cell_type": "code",
   "execution_count": 17,
   "metadata": {},
   "outputs": [
    {
     "name": "stdout",
     "output_type": "stream",
     "text": [
      "Ранг матрицы системы:\n",
      "2\n"
     ]
    }
   ],
   "source": [
    "print(f'Ранг матрицы системы:\\n{a.rank()}')\n",
    "# Результат: 2"
   ]
  },
  {
   "cell_type": "code",
   "execution_count": 18,
   "metadata": {},
   "outputs": [
    {
     "name": "stdout",
     "output_type": "stream",
     "text": [
      "Ранг расширенной матрицы:\n",
      "3\n"
     ]
    }
   ],
   "source": [
    "print(f'Ранг расширенной матрицы:\\n{ab.rank()}')\n",
    "# Результат: 3"
   ]
  },
  {
   "cell_type": "code",
   "execution_count": 19,
   "metadata": {},
   "outputs": [],
   "source": [
    "a = Matrix([[1, 2, 3], [4, 5, 6], [7, 8, 9]])\n",
    "ab = Matrix([[1, 2, 3, 0], [4, 5, 6, -1], [7, 8, 9, 0]])"
   ]
  },
  {
   "cell_type": "code",
   "execution_count": 20,
   "metadata": {},
   "outputs": [
    {
     "name": "stdout",
     "output_type": "stream",
     "text": [
      "Ранг матрицы системы:\n",
      "2\n"
     ]
    }
   ],
   "source": [
    "print(f'Ранг матрицы системы:\\n{a.rank()}')\n",
    "# Результат: 2"
   ]
  },
  {
   "cell_type": "code",
   "execution_count": 21,
   "metadata": {},
   "outputs": [
    {
     "name": "stdout",
     "output_type": "stream",
     "text": [
      "Ранг расширенной матрицы:\n",
      "3\n"
     ]
    }
   ],
   "source": [
    "print(f'Ранг расширенной матрицы:\\n{ab.rank()}')\n",
    "# Результат: 3"
   ]
  },
  {
   "cell_type": "code",
   "execution_count": 22,
   "metadata": {},
   "outputs": [],
   "source": [
    "a = Matrix([[1, 2, 3], [4, 5, 6], [7, 8, 9]])\n",
    "ab = Matrix([[1, 2, 3, 0], [4, 5, 6, 0], [7, 8, 9, 0.5]])"
   ]
  },
  {
   "cell_type": "code",
   "execution_count": 23,
   "metadata": {},
   "outputs": [
    {
     "name": "stdout",
     "output_type": "stream",
     "text": [
      "Ранг матрицы системы:\n",
      "2\n"
     ]
    }
   ],
   "source": [
    "print(f'Ранг матрицы системы:\\n{a.rank()}')\n",
    "# Результат: 2"
   ]
  },
  {
   "cell_type": "code",
   "execution_count": 24,
   "metadata": {},
   "outputs": [
    {
     "name": "stdout",
     "output_type": "stream",
     "text": [
      "Ранг расширенной матрицы:\n",
      "3\n"
     ]
    }
   ],
   "source": [
    "print(f'Ранг расширенной матрицы:\\n{ab.rank()}')\n",
    "# Результат: 3"
   ]
  },
  {
   "cell_type": "code",
   "execution_count": 25,
   "metadata": {},
   "outputs": [],
   "source": [
    "a = Matrix([[1, 2, 3], [4, 5, 6], [7, 8, 9]])\n",
    "ab = Matrix([[1, 2, 3, pi], [4, 5, 6, 0], [7, 8, 9, 0]])"
   ]
  },
  {
   "cell_type": "code",
   "execution_count": 26,
   "metadata": {},
   "outputs": [
    {
     "name": "stdout",
     "output_type": "stream",
     "text": [
      "Ранг матрицы системы:\n",
      "2\n"
     ]
    }
   ],
   "source": [
    "print(f'Ранг матрицы системы:\\n{a.rank()}')\n",
    "# Результат: 2"
   ]
  },
  {
   "cell_type": "code",
   "execution_count": 27,
   "metadata": {},
   "outputs": [
    {
     "name": "stdout",
     "output_type": "stream",
     "text": [
      "Ранг расширенной матрицы:\n",
      "3\n"
     ]
    }
   ],
   "source": [
    "print(f'Ранг расширенной матрицы:\\n{ab.rank()}')\n",
    "# Результат: 3"
   ]
  }
 ],
 "metadata": {
  "kernelspec": {
   "display_name": "Python 3",
   "language": "python",
   "name": "python3"
  },
  "language_info": {
   "codemirror_mode": {
    "name": "ipython",
    "version": 3
   },
   "file_extension": ".py",
   "mimetype": "text/x-python",
   "name": "python",
   "nbconvert_exporter": "python",
   "pygments_lexer": "ipython3",
   "version": "3.8.5"
  }
 },
 "nbformat": 4,
 "nbformat_minor": 4
}
