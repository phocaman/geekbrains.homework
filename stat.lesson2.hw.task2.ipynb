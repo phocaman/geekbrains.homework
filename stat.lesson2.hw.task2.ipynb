{
 "cells": [
  {
   "cell_type": "code",
   "execution_count": 16,
   "metadata": {},
   "outputs": [],
   "source": [
    "# 2. Вероятность того, что лампочка перегорит в течение первого дня эксплуатации, равна 0.0004.\n",
    "# В жилом комплексе после ремонта в один день включили 5000 новых лампочек.\n",
    "# Какова вероятность, что ни одна из них не перегорит в первый день? Какова вероятность, что перегорят ровно две?"
   ]
  },
  {
   "cell_type": "code",
   "execution_count": 17,
   "metadata": {},
   "outputs": [],
   "source": [
    "import math"
   ]
  },
  {
   "cell_type": "code",
   "execution_count": 18,
   "metadata": {},
   "outputs": [],
   "source": [
    "n = 5000\n",
    "m1 = 0\n",
    "m2 = 2\n",
    "p = 0.0004\n",
    "lambda_ = n * p"
   ]
  },
  {
   "cell_type": "code",
   "execution_count": 19,
   "metadata": {},
   "outputs": [
    {
     "name": "stdout",
     "output_type": "stream",
     "text": [
      "Вероятность того, что ни одна из лампочек не перегорит в первый день:\n",
      "0.13534\n"
     ]
    }
   ],
   "source": [
    "p_0 = (lambda_**m1 / math.factorial(m1)) * math.exp(-lambda_)\n",
    "print(f'Вероятность того, что ни одна из лампочек не перегорит в первый день:\\n{p_0 :.5f}')"
   ]
  },
  {
   "cell_type": "code",
   "execution_count": 20,
   "metadata": {},
   "outputs": [
    {
     "name": "stdout",
     "output_type": "stream",
     "text": [
      "Вероятность того, что в первый день перегорят ровно две лампочки:\n",
      "0.27067\n"
     ]
    }
   ],
   "source": [
    "p_2 = (lambda_**m2 / math.factorial(m2)) * math.exp(-lambda_)\n",
    "print(f'Вероятность того, что в первый день перегорят ровно две лампочки:\\n{p_2 :.5f}')"
   ]
  }
 ],
 "metadata": {
  "kernelspec": {
   "display_name": "Python 3",
   "language": "python",
   "name": "python3"
  },
  "language_info": {
   "codemirror_mode": {
    "name": "ipython",
    "version": 3
   },
   "file_extension": ".py",
   "mimetype": "text/x-python",
   "name": "python",
   "nbconvert_exporter": "python",
   "pygments_lexer": "ipython3",
   "version": "3.8.5"
  }
 },
 "nbformat": 4,
 "nbformat_minor": 4
}
