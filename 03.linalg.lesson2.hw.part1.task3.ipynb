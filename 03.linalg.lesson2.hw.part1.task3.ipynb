{
 "cells": [
  {
   "cell_type": "code",
   "execution_count": 31,
   "metadata": {},
   "outputs": [],
   "source": [
    "# 3. Из закономерностей сложения и умножения матриц на число можно сделать вывод, что матрицы одного размера\n",
    "# образуют линейное пространство. Вычислить линейную комбинацию 3𝐴−2𝐵+4𝐶 для матриц 𝐴, 𝐵, 𝐶."
   ]
  },
  {
   "cell_type": "code",
   "execution_count": 32,
   "metadata": {},
   "outputs": [],
   "source": [
    "from sympy import *"
   ]
  },
  {
   "cell_type": "code",
   "execution_count": 33,
   "metadata": {},
   "outputs": [],
   "source": [
    "a = Matrix([[1, 7],\n",
    "            [3, -6]])\n",
    "b = Matrix([[0, 5],\n",
    "            [2, -1]])\n",
    "c = Matrix([[2, -4],\n",
    "            [1, 1]])"
   ]
  },
  {
   "cell_type": "code",
   "execution_count": 34,
   "metadata": {},
   "outputs": [
    {
     "name": "stdout",
     "output_type": "stream",
     "text": [
      "Линейная комбинация 3A-2B+4C для матриц A, B, C:\n"
     ]
    },
    {
     "data": {
      "text/latex": [
       "$\\displaystyle \\left[\\begin{matrix}11 & -5\\\\9 & -12\\end{matrix}\\right]$"
      ],
      "text/plain": [
       "Matrix([\n",
       "[11,  -5],\n",
       "[ 9, -12]])"
      ]
     },
     "execution_count": 34,
     "metadata": {},
     "output_type": "execute_result"
    }
   ],
   "source": [
    "linear_combination = 3*a - 2*b + 4*c\n",
    "print('Линейная комбинация 3A-2B+4C для матриц A, B, C:')\n",
    "linear_combination"
   ]
  }
 ],
 "metadata": {
  "kernelspec": {
   "display_name": "Python 3",
   "language": "python",
   "name": "python3"
  },
  "language_info": {
   "codemirror_mode": {
    "name": "ipython",
    "version": 3
   },
   "file_extension": ".py",
   "mimetype": "text/x-python",
   "name": "python",
   "nbconvert_exporter": "python",
   "pygments_lexer": "ipython3",
   "version": "3.8.5"
  }
 },
 "nbformat": 4,
 "nbformat_minor": 4
}
