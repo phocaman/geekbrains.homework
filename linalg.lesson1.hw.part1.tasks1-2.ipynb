{
 "cells": [
  {
   "cell_type": "code",
   "execution_count": 19,
   "metadata": {},
   "outputs": [],
   "source": [
    "# 1. Исследовать на линейную зависимость:\n",
    "\n",
    "# 𝑓1(𝑥)=𝑒^𝑥,𝑓2(𝑥)=1,𝑓3(𝑥)=𝑥+1,𝑓4(𝑥)=𝑥−𝑒^𝑥."
   ]
  },
  {
   "cell_type": "code",
   "execution_count": 20,
   "metadata": {},
   "outputs": [
    {
     "name": "stdout",
     "output_type": "stream",
     "text": [
      "Определитель Вронского, W = 0\n"
     ]
    }
   ],
   "source": [
    "import sympy as sp\n",
    "from sympy.matrices import dense\n",
    "\n",
    "x = sp.Symbol('x')\n",
    "f1 = sp.exp(x)\n",
    "f2 = 1 \n",
    "f3 = x + 1\n",
    "f4 = x - sp.exp(x)\n",
    "\n",
    "wronskian = dense.wronskian([f1, f2, f3, f4], x)\n",
    "print(f'Определитель Вронского, W = {wronskian}')"
   ]
  },
  {
   "cell_type": "code",
   "execution_count": 21,
   "metadata": {},
   "outputs": [],
   "source": [
    "# Функции линейно зависимы."
   ]
  },
  {
   "cell_type": "code",
   "execution_count": 22,
   "metadata": {},
   "outputs": [],
   "source": [
    "# 2. Исследовать на линейную зависимость:\n",
    "\n",
    "# 𝑓1(𝑥)=2,𝑓2(𝑥)=𝑥,𝑓3(𝑥)=𝑥^2,𝑓4(𝑥)=(𝑥+1)^2"
   ]
  },
  {
   "cell_type": "code",
   "execution_count": 23,
   "metadata": {},
   "outputs": [
    {
     "name": "stdout",
     "output_type": "stream",
     "text": [
      "Определитель Вронского, W = 0\n"
     ]
    }
   ],
   "source": [
    "import sympy as sp\n",
    "from sympy.matrices import dense\n",
    "\n",
    "x = sp.Symbol('x')\n",
    "f1 = 2\n",
    "f2 = x \n",
    "f3 = x**2\n",
    "f4 = (x + 1)**2\n",
    "\n",
    "wronskian = dense.wronskian([f1, f2, f3, f4], x)\n",
    "print(f'Определитель Вронского, W = {wronskian}')"
   ]
  },
  {
   "cell_type": "code",
   "execution_count": 24,
   "metadata": {},
   "outputs": [],
   "source": [
    "# Функции линейно зависимы."
   ]
  }
 ],
 "metadata": {
  "kernelspec": {
   "display_name": "Python 3",
   "language": "python",
   "name": "python3"
  },
  "language_info": {
   "codemirror_mode": {
    "name": "ipython",
    "version": 3
   },
   "file_extension": ".py",
   "mimetype": "text/x-python",
   "name": "python",
   "nbconvert_exporter": "python",
   "pygments_lexer": "ipython3",
   "version": "3.8.5"
  }
 },
 "nbformat": 4,
 "nbformat_minor": 4
}
