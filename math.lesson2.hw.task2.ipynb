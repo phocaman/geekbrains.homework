{
 "cells": [
  {
   "cell_type": "code",
   "execution_count": 1,
   "metadata": {},
   "outputs": [],
   "source": [
    "cucumbers_weight_before_shrinkage = 100\n",
    "water_share_before_shrinkage = 0.99\n",
    "water_share_after_shrinkage = 0.98"
   ]
  },
  {
   "cell_type": "code",
   "execution_count": 2,
   "metadata": {},
   "outputs": [
    {
     "name": "stdout",
     "output_type": "stream",
     "text": [
      "Воды в огурцах до усушки: 99.0 кг.\n"
     ]
    }
   ],
   "source": [
    "initial_water_weight = cucumbers_weight_before_shrinkage * water_share_before_shrinkage\n",
    "print(f\"Воды в огурцах до усушки: {initial_water_weight} кг.\")"
   ]
  },
  {
   "cell_type": "code",
   "execution_count": 3,
   "metadata": {},
   "outputs": [
    {
     "name": "stdout",
     "output_type": "stream",
     "text": [
      "Сухого вещества в огурцах до усушки: 1.0 кг.\n"
     ]
    }
   ],
   "source": [
    "cucumbers_dry_substance = cucumbers_weight_before_shrinkage - initial_water_weight\n",
    "print(f\"Сухого вещества в огурцах до усушки: {cucumbers_dry_substance} кг.\")"
   ]
  },
  {
   "cell_type": "code",
   "execution_count": 4,
   "metadata": {},
   "outputs": [
    {
     "name": "stdout",
     "output_type": "stream",
     "text": [
      "Доля сухого вещества в огурцах после усушки: 0.020000000000000018.\n"
     ]
    }
   ],
   "source": [
    "dry_substance_share_after_shrinkage = cucumbers_dry_substance - water_share_after_shrinkage\n",
    "print(f\"Доля сухого вещества в огурцах после усушки: {dry_substance_share_after_shrinkage}.\")"
   ]
  },
  {
   "cell_type": "code",
   "execution_count": 5,
   "metadata": {},
   "outputs": [],
   "source": [
    "cucumbers_weight_after_shrinkage = cucumbers_dry_substance / dry_substance_share_after_shrinkage"
   ]
  },
  {
   "cell_type": "code",
   "execution_count": 6,
   "metadata": {},
   "outputs": [
    {
     "name": "stdout",
     "output_type": "stream",
     "text": [
      "Вес огурцов после усушки: 49.99999999999996 кг.\n"
     ]
    }
   ],
   "source": [
    "print(f\"Вес огурцов после усушки: {cucumbers_weight_after_shrinkage} кг.\")"
   ]
  }
 ],
 "metadata": {
  "kernelspec": {
   "display_name": "Python 3",
   "language": "python",
   "name": "python3"
  },
  "language_info": {
   "codemirror_mode": {
    "name": "ipython",
    "version": 3
   },
   "file_extension": ".py",
   "mimetype": "text/x-python",
   "name": "python",
   "nbconvert_exporter": "python",
   "pygments_lexer": "ipython3",
   "version": "3.8.5"
  }
 },
 "nbformat": 4,
 "nbformat_minor": 4
}
