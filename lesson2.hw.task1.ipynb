{
 "cells": [
  {
   "cell_type": "markdown",
   "id": "9a39fc41",
   "metadata": {},
   "source": [
    "# Урок 2. Домашнее задание"
   ]
  },
  {
   "cell_type": "markdown",
   "id": "522ea22d",
   "metadata": {},
   "source": [
    "1. Сгенерировать датасет при помощи sklearn.datasets.make_regression и обучить линейную модель при помощи градиентного спуска и стохастического градиентного спуска. Построить графики среднеквадратичной ошибки от числа итераций для обоих методов на одном рисунке, сделать выводы о разнице скорости сходимости каждого из методов."
   ]
  },
  {
   "cell_type": "code",
   "execution_count": 940,
   "id": "b5e93aca",
   "metadata": {},
   "outputs": [],
   "source": [
    "import numpy as np\n",
    "from sklearn import datasets\n",
    "import matplotlib.pyplot as plt\n",
    "\n",
    "%matplotlib inline"
   ]
  },
  {
   "cell_type": "code",
   "execution_count": 941,
   "id": "04dd6b68",
   "metadata": {},
   "outputs": [],
   "source": [
    "X_, y_, coef = datasets.make_regression(n_samples=100, \n",
    "                                      n_features=2, \n",
    "                                      n_informative=2, \n",
    "                                      n_targets=1,\n",
    "                                      noise=5, \n",
    "                                      coef=True, \n",
    "                                      random_state=42)"
   ]
  },
  {
   "cell_type": "code",
   "execution_count": 942,
   "id": "e3407077",
   "metadata": {},
   "outputs": [
    {
     "data": {
      "text/plain": [
       "array([86.85290273, 74.10093365])"
      ]
     },
     "execution_count": 942,
     "metadata": {},
     "output_type": "execute_result"
    }
   ],
   "source": [
    "w = np.linalg.inv(X_.T @ X_) @ X_.T @ y_\n",
    "w"
   ]
  },
  {
   "cell_type": "markdown",
   "id": "ee782389",
   "metadata": {},
   "source": [
    "# а) градиентный спуск"
   ]
  },
  {
   "cell_type": "code",
   "execution_count": 943,
   "id": "367ffed0",
   "metadata": {},
   "outputs": [],
   "source": [
    "def mean_sq_err(y_, y_pred):\n",
    "    err = np.mean((y_ - y_pred)**2)\n",
    "    return err"
   ]
  },
  {
   "cell_type": "code",
   "execution_count": 944,
   "id": "36aca9e5",
   "metadata": {},
   "outputs": [],
   "source": [
    "errors_gd = []"
   ]
  },
  {
   "cell_type": "code",
   "execution_count": 945,
   "id": "32ee4999",
   "metadata": {},
   "outputs": [],
   "source": [
    "def gradient_descent(X_, y_, iterations, alpha):\n",
    "    np.random.seed(42)\n",
    "    w = np.random.randn(X_.shape[1])\n",
    "    n = X_.shape[0]\n",
    "    for i in range(1, iterations + 1):\n",
    "        y_pred = np.dot(X_, w)\n",
    "        err = mean_sq_err(y_, y_pred)\n",
    "        errors_gd.append(err)\n",
    "        w -= alpha * (1/n * 2 * np.dot((y_pred - y_), X_))\n",
    "        if i % (iterations / 10) == 0:\n",
    "            print(i, w, err)\n",
    "    return w"
   ]
  },
  {
   "cell_type": "code",
   "execution_count": 946,
   "id": "b551d6d2",
   "metadata": {},
   "outputs": [
    {
     "name": "stdout",
     "output_type": "stream",
     "text": [
      "200 [82.67522107 72.98907436] 43.564213808815346\n",
      "400 [86.64323619 74.09307726] 28.79854054411152\n",
      "600 [86.84223393 74.10142749] 28.764997644042495\n",
      "800 [86.85235712 74.10097534] 28.764911188770917\n",
      "1000 [86.85287477 74.10093609] 28.764910961986047\n",
      "1200 [86.85290129 74.10093378] 28.764910961389795\n",
      "1400 [86.85290265 74.10093366] 28.76491096138825\n",
      "1600 [86.85290272 74.10093365] 28.764910961388246\n",
      "1800 [86.85290273 74.10093365] 28.764910961388242\n",
      "2000 [86.85290273 74.10093365] 28.764910961388242\n"
     ]
    }
   ],
   "source": [
    "w_gd = gradient_descent(X_, y_, iterations=2000, alpha=1e-2)\n",
    "y_pred = np.dot(X_, w_gd)\n",
    "err_gd = mean_sq_err(y_, y_pred)"
   ]
  },
  {
   "cell_type": "code",
   "execution_count": 947,
   "id": "0cb7cf7c",
   "metadata": {},
   "outputs": [
    {
     "data": {
      "text/plain": [
       "Text(0, 0.5, 'Среднеквадратическая ошибка')"
      ]
     },
     "execution_count": 947,
     "metadata": {},
     "output_type": "execute_result"
    },
    {
     "data": {
      "image/png": "[encoded data removed]",
      "text/plain": [
       "<Figure size 432x288 with 1 Axes>"
      ]
     },
     "metadata": {
      "needs_background": "light"
     },
     "output_type": "display_data"
    }
   ],
   "source": [
    "plt.plot(range(len(errors_gd)), errors_gd)\n",
    "plt.title('Среднеквадратическая ошибка GD')\n",
    "plt.xlabel('Количество итераций')\n",
    "plt.ylabel('Среднеквадратическая ошибка')"
   ]
  },
  {
   "cell_type": "markdown",
   "id": "05e48e55",
   "metadata": {},
   "source": [
    "# б) стохастический градиентный спуск"
   ]
  },
  {
   "cell_type": "code",
   "execution_count": 948,
   "id": "d84393c7",
   "metadata": {},
   "outputs": [],
   "source": [
    "errors_sgd = []"
   ]
  },
  {
   "cell_type": "code",
   "execution_count": 949,
   "id": "3094a62e",
   "metadata": {},
   "outputs": [],
   "source": [
    "def stochastic_gradient_descent(X_, y_, iterations, alpha):\n",
    "    np.random.seed(42)\n",
    "    w = np.random.randn(X_.shape[1])\n",
    "    n = X_.shape[0]\n",
    "    for i in range(1, iterations + 1):\n",
    "        err = mean_sq_err(y_, np.dot(X_, w))\n",
    "        ind = np.random.randint(n)\n",
    "        y_pred = np.dot(X_[ind], w)\n",
    "        errors_sgd.append(err)\n",
    "        w -= alpha * (2 * np.dot((y_pred - y_[ind]), X_[ind]))\n",
    "        if i % (iterations / 10) == 0:\n",
    "            print(i, w, err)\n",
    "    return w, err"
   ]
  },
  {
   "cell_type": "code",
   "execution_count": 950,
   "id": "9593564b",
   "metadata": {},
   "outputs": [
    {
     "name": "stdout",
     "output_type": "stream",
     "text": [
      "450 [44.24142488 42.63925973] 2412.8149332928533\n",
      "900 [65.45730033 61.15220424] 546.3712544808794\n",
      "1350 [75.98924569 68.58311473] 149.03960866765837\n",
      "1800 [81.91643756 72.05082405] 51.47577871646484\n",
      "2250 [84.28243942 73.49845041] 34.10227927466853\n",
      "2700 [85.38821083 73.91899779] 30.45833752446661\n",
      "3150 [85.99170302 73.98416886] 29.336751282101368\n",
      "3600 [86.39483844 74.07812172] 28.937591959036016\n",
      "4050 [86.64316811 74.0643608 ] 28.796057571221322\n",
      "4500 [86.86872429 74.11929617] 28.765103695536244\n"
     ]
    }
   ],
   "source": [
    "w_sgd = stochastic_gradient_descent(X_, y_, iterations=4500, alpha=1e-3)\n",
    "y_pred = np.dot(X_, w_sgd)\n",
    "err_sgd = mean_sq_err(y_, y_pred)"
   ]
  },
  {
   "cell_type": "code",
   "execution_count": 951,
   "id": "773fb480",
   "metadata": {},
   "outputs": [
    {
     "data": {
      "text/plain": [
       "Text(0, 0.5, 'Среднеквадратическая ошибка')"
      ]
     },
     "execution_count": 951,
     "metadata": {},
     "output_type": "execute_result"
    },
    {
     "data": {
      "image/png": "[encoded data removed]",
      "text/plain": [
       "<Figure size 432x288 with 1 Axes>"
      ]
     },
     "metadata": {
      "needs_background": "light"
     },
     "output_type": "display_data"
    }
   ],
   "source": [
    "plt.plot(range(len(errors_sgd)), errors_sgd)\n",
    "plt.title('Среднеквадратическая ошибка SGD')\n",
    "plt.xlabel('Количество итераций')\n",
    "plt.ylabel('Среднеквадратическая ошибка')"
   ]
  },
  {
   "cell_type": "code",
   "execution_count": 952,
   "id": "0f986808",
   "metadata": {},
   "outputs": [
    {
     "data": {
      "image/png": "[encoded data removed]",
      "text/plain": [
       "<Figure size 432x288 with 1 Axes>"
      ]
     },
     "metadata": {
      "needs_background": "light"
     },
     "output_type": "display_data"
    }
   ],
   "source": [
    "plt.plot(range(len(errors_gd)), errors_gd, color='r', label='градиентный спуск')\n",
    "plt.plot(range(len(errors_sgd)), errors_sgd, color='g', label='стохастический градиентный спуск')\n",
    "plt.title('Среднеквадратическая ошибка GD & SGD')\n",
    "plt.xlabel('Количество итераций')\n",
    "plt.ylabel('Среднеквадратическая ошибка')\n",
    "plt.legend()\n",
    "plt.show()"
   ]
  },
  {
   "cell_type": "markdown",
   "id": "50eec1aa",
   "metadata": {},
   "source": [
    "В данном случае условная сходимость методов достигается посредством увеличения количества итераций (с 2000 до 4500) и уменьшения шага градиентного спуска (с 10^-2 до 10^-3) при использовании метода стохастического градиентного спуска."
   ]
  }
 ],
 "metadata": {
  "kernelspec": {
   "display_name": "Python 3",
   "language": "python",
   "name": "python3"
  },
  "language_info": {
   "codemirror_mode": {
    "name": "ipython",
    "version": 3
   },
   "file_extension": ".py",
   "mimetype": "text/x-python",
   "name": "python",
   "nbconvert_exporter": "python",
   "pygments_lexer": "ipython3",
   "version": "3.8.8"
  }
 },
 "nbformat": 4,
 "nbformat_minor": 5
}
