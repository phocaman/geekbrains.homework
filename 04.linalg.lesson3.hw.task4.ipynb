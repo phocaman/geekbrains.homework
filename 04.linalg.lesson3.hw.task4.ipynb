{
 "cells": [
  {
   "cell_type": "code",
   "execution_count": 1,
   "metadata": {},
   "outputs": [],
   "source": [
    "# 4. Пусть линейный оператор задан матрицей.\n",
    "# Установить, является ли вектор  𝑥=(3,−3,−4) собственным вектором этого линейного оператора."
   ]
  },
  {
   "cell_type": "code",
   "execution_count": 2,
   "metadata": {},
   "outputs": [],
   "source": [
    "from sympy import *"
   ]
  },
  {
   "cell_type": "code",
   "execution_count": 3,
   "metadata": {},
   "outputs": [
    {
     "data": {
      "text/latex": [
       "$\\displaystyle \\left[\\begin{matrix}0 & 3 & 0\\\\3 & 0 & 0\\\\0 & 0 & 3\\end{matrix}\\right]$"
      ],
      "text/plain": [
       "Matrix([\n",
       "[0, 3, 0],\n",
       "[3, 0, 0],\n",
       "[0, 0, 3]])"
      ]
     },
     "execution_count": 3,
     "metadata": {},
     "output_type": "execute_result"
    }
   ],
   "source": [
    "a = Matrix([[0, 3, 0],\n",
    "            [3, 0, 0],\n",
    "            [0, 0, 3]])\n",
    "a"
   ]
  },
  {
   "cell_type": "code",
   "execution_count": 4,
   "metadata": {},
   "outputs": [
    {
     "data": {
      "text/plain": [
       "[(-3,\n",
       "  1,\n",
       "  [Matrix([\n",
       "   [-1],\n",
       "   [ 1],\n",
       "   [ 0]])]),\n",
       " (3,\n",
       "  2,\n",
       "  [Matrix([\n",
       "   [1],\n",
       "   [1],\n",
       "   [0]]),\n",
       "   Matrix([\n",
       "   [0],\n",
       "   [0],\n",
       "   [1]])])]"
      ]
     },
     "execution_count": 4,
     "metadata": {},
     "output_type": "execute_result"
    }
   ],
   "source": [
    "a.eigenvects()"
   ]
  },
  {
   "cell_type": "code",
   "execution_count": 5,
   "metadata": {},
   "outputs": [
    {
     "name": "stdout",
     "output_type": "stream",
     "text": [
      "Собственные векторы:\n"
     ]
    },
    {
     "data": {
      "text/plain": [
       "[[-1, 1, 0], [1, 1, 0]]"
      ]
     },
     "execution_count": 5,
     "metadata": {},
     "output_type": "execute_result"
    }
   ],
   "source": [
    "print('Собственные векторы:')\n",
    "[list(t[2][0]) for t in a.eigenvects()]\n",
    "\n",
    "# Результат: [[-1, 1, 0], [1, 1, 0]]"
   ]
  },
  {
   "cell_type": "code",
   "execution_count": 6,
   "metadata": {},
   "outputs": [],
   "source": [
    "# Вектор 𝑥=(3,−3,−4) не является собственным вектором этого линейного оператора."
   ]
  }
 ],
 "metadata": {
  "kernelspec": {
   "display_name": "Python 3",
   "language": "python",
   "name": "python3"
  },
  "language_info": {
   "codemirror_mode": {
    "name": "ipython",
    "version": 3
   },
   "file_extension": ".py",
   "mimetype": "text/x-python",
   "name": "python",
   "nbconvert_exporter": "python",
   "pygments_lexer": "ipython3",
   "version": "3.8.5"
  }
 },
 "nbformat": 4,
 "nbformat_minor": 4
}
