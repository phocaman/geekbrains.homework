{
 "cells": [
  {
   "cell_type": "code",
   "execution_count": 13,
   "metadata": {},
   "outputs": [],
   "source": [
    "# 3*. Решить систему линейных уравнений методом 𝐿𝑈-разложения.\n",
    "# 5*. Написать на Python программу с реализацией одного из изученных алгоритмов решения СЛАУ."
   ]
  },
  {
   "cell_type": "code",
   "execution_count": 14,
   "metadata": {},
   "outputs": [],
   "source": [
    "import numpy as np"
   ]
  },
  {
   "cell_type": "code",
   "execution_count": 15,
   "metadata": {},
   "outputs": [],
   "source": [
    "a = np.array([[2, 1, 3],[11, 7, 5],[9, 8, 4]])\n",
    "b = [1, -6, -5]"
   ]
  },
  {
   "cell_type": "code",
   "execution_count": 16,
   "metadata": {},
   "outputs": [],
   "source": [
    "def LU_decomposition(a):\n",
    "    L = np.eye(len(a))\n",
    "    U = np.zeros(np.shape(a))\n",
    "    for r in range(1, len(a)):\n",
    "        U[0, r - 1] = a[0, r - 1]\n",
    "        L[r, 0] = a[r, 0] / a[0, 0]\n",
    "    U[0, -1] = a[0, -1]\n",
    "    for r in range(1, len(a)):\n",
    "        for i in range(r, len(a)):\n",
    "            delta = 0\n",
    "            for k in range(0, r):\n",
    "                delta += L[r, k] * U[k, i]\n",
    "            U[r, i] = a[r, i] - delta\n",
    "            for i in range(r + 1, len(a)):\n",
    "                theta = 0\n",
    "                for k in range(0, r):\n",
    "                    theta += L[i, k] * U[k, r]\n",
    "                L[i, r] = (a[i, r] - theta) / U[r, r]\n",
    "    return L, U"
   ]
  },
  {
   "cell_type": "code",
   "execution_count": 17,
   "metadata": {},
   "outputs": [],
   "source": [
    "def LU_equation_solver(a, b):\n",
    "    L, U = LU_decomposition(a)\n",
    "    n = len(a)\n",
    "    y = np.zeros((n, 1))\n",
    "    b = np.array(b).reshape(n,1)\n",
    "    for i in range(len(a)):\n",
    "        t = 0\n",
    "        for j in range(i):\n",
    "            t += L[i][j]* y[j][0]\n",
    "        y[i][0] = b[i][0] - t\n",
    "    x = np.zeros((n, 1))\n",
    "    for i in range(len(a)-1,-1,-1):\n",
    "        t = 0\n",
    "        for j in range(i+1,len(a)):\n",
    "            t += U[i][j]*x[j][0]\n",
    "        t = y[i][0] - t\n",
    "        if t != 0 and U[i][i] == 0:\n",
    "            return 0\n",
    "        x[i] = t/U[i][i]\n",
    "    return x"
   ]
  },
  {
   "cell_type": "code",
   "execution_count": 18,
   "metadata": {},
   "outputs": [
    {
     "name": "stdout",
     "output_type": "stream",
     "text": [
      "Ответ:\n",
      "x1 = [-1.]\n",
      "x2 = [0.]\n",
      "x3 = [1.]\n"
     ]
    }
   ],
   "source": [
    "x1, x2, x3 = LU_equation_solver(a, b)\n",
    "print('Ответ:')\n",
    "print(f'x1 = {x1}')\n",
    "print(f'x2 = {x2}')\n",
    "print(f'x3 = {x3}')"
   ]
  },
  {
   "cell_type": "code",
   "execution_count": null,
   "metadata": {},
   "outputs": [],
   "source": [
    "# Ответ: x1 = -1; x2 = 0; x3 = 1"
   ]
  }
 ],
 "metadata": {
  "kernelspec": {
   "display_name": "Python 3",
   "language": "python",
   "name": "python3"
  },
  "language_info": {
   "codemirror_mode": {
    "name": "ipython",
    "version": 3
   },
   "file_extension": ".py",
   "mimetype": "text/x-python",
   "name": "python",
   "nbconvert_exporter": "python",
   "pygments_lexer": "ipython3",
   "version": "3.8.5"
  }
 },
 "nbformat": 4,
 "nbformat_minor": 4
}
