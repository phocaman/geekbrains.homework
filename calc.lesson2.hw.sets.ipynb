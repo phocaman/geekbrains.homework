{
 "cells": [
  {
   "cell_type": "code",
   "execution_count": 1,
   "metadata": {},
   "outputs": [],
   "source": [
    "# Даны три множества a, b, c. Необходимо выполнить все изученные виды бинарных операций над всеми комбинациями множеств."
   ]
  },
  {
   "cell_type": "code",
   "execution_count": 21,
   "metadata": {},
   "outputs": [
    {
     "name": "stdout",
     "output_type": "stream",
     "text": [
      "a ∩ b: {2, 4}\n",
      "b ∩ a: {2, 4}\n",
      "b ∩ c: {2}\n",
      "c ∩ b: {2}\n",
      "c ∩ a: {0, 1, 2, 3}\n",
      "a ∩ c: {0, 1, 2, 3}\n",
      "\n",
      "a ∪ b: {0, 1, 2, 3, 4, 6, 8}\n",
      "b ∪ a: {0, 1, 2, 3, 4, 6, 8}\n",
      "b ∪ c: {0, 1, 2, 3, 4, 5, 6, 8}\n",
      "c ∪ b: {0, 1, 2, 3, 4, 5, 6, 8}\n",
      "c ∪ a: {0, 1, 2, 3, 4, 5}\n",
      "a ∪ c: {0, 1, 2, 3, 4, 5}\n",
      "\n",
      "a \\ b: {0, 1, 3}\n",
      "b \\ a: {8, 6}\n",
      "b \\ c: {8, 4, 6}\n",
      "c \\ b: {0, 1, 3, 5}\n",
      "c \\ a: {5}\n",
      "a \\ c: {4}\n",
      "\n",
      "a * b: {(3, 4), (4, 6), (0, 2), (2, 2), (1, 6), (0, 8), (2, 8), (4, 2), (4, 8), (3, 6), (2, 4), (1, 2), (0, 4), (1, 8), (3, 2), (4, 4), (3, 8), (1, 4), (0, 6), (2, 6)}\n",
      "b * a: {(4, 0), (4, 3), (8, 0), (8, 3), (2, 2), (6, 2), (4, 2), (8, 2), (2, 4), (2, 1), (6, 1), (6, 4), (4, 1), (4, 4), (8, 4), (8, 1), (2, 0), (2, 3), (6, 0), (6, 3)}\n",
      "b * c: {(4, 0), (4, 3), (8, 0), (8, 3), (2, 2), (2, 5), (6, 2), (6, 5), (4, 2), (4, 5), (8, 2), (8, 5), (2, 1), (6, 1), (4, 1), (8, 1), (2, 0), (2, 3), (6, 0), (6, 3)}\n",
      "c * b: {(3, 4), (5, 4), (0, 2), (2, 2), (1, 6), (0, 8), (2, 8), (5, 6), (3, 6), (2, 4), (1, 2), (0, 4), (1, 8), (3, 2), (5, 2), (3, 8), (5, 8), (1, 4), (0, 6), (2, 6)}\n",
      "c * a: {(3, 4), (3, 1), (5, 4), (5, 1), (0, 2), (2, 2), (1, 0), (1, 3), (3, 0), (3, 3), (5, 0), (5, 3), (0, 1), (2, 4), (1, 2), (0, 4), (2, 1), (3, 2), (5, 2), (0, 0), (1, 1), (0, 3), (2, 0), (1, 4), (2, 3)}\n",
      "a * c: {(4, 0), (4, 3), (3, 1), (0, 2), (0, 5), (2, 2), (1, 0), (2, 5), (1, 3), (4, 2), (3, 0), (4, 5), (3, 3), (0, 1), (1, 2), (2, 1), (1, 5), (3, 2), (4, 1), (3, 5), (0, 0), (1, 1), (0, 3), (2, 0), (2, 3)}\n"
     ]
    }
   ],
   "source": [
    "a = {0, 1, 2, 3, 4}\n",
    "b = {2, 4, 6, 8}\n",
    "c = {0, 1, 1, 2, 3, 5}\n",
    "\n",
    "# Пересечение:\n",
    "\n",
    "print(f\"a ∩ b: {a.intersection(b)}\")\n",
    "print(f\"b ∩ a: {b.intersection(a)}\")\n",
    "print(f\"b ∩ c: {b.intersection(c)}\")\n",
    "print(f\"c ∩ b: {c.intersection(b)}\")\n",
    "print(f\"c ∩ a: {c.intersection(a)}\")\n",
    "print(f\"a ∩ c: {a.intersection(c)}\")\n",
    "print()\n",
    "\n",
    "# Объединение:\n",
    "\n",
    "print(f\"a ∪ b: {a.union(b)}\")\n",
    "print(f\"b ∪ a: {b.union(a)}\")\n",
    "print(f\"b ∪ c: {b.union(c)}\")\n",
    "print(f\"c ∪ b: {c.union(b)}\")\n",
    "print(f\"c ∪ a: {c.union(a)}\")\n",
    "print(f\"a ∪ c: {a.union(c)}\")\n",
    "print()\n",
    "\n",
    "# Разность:\n",
    "\n",
    "print(f\"a \\ b: {a.difference(b)}\")\n",
    "print(f\"b \\ a: {b.difference(a)}\")\n",
    "print(f\"b \\ c: {b.difference(c)}\")\n",
    "print(f\"c \\ b: {c.difference(b)}\")\n",
    "print(f\"c \\ a: {c.difference(a)}\")\n",
    "print(f\"a \\ c: {a.difference(c)}\")\n",
    "print()\n",
    "\n",
    "# Декартово произведение:\n",
    "\n",
    "from itertools import product\n",
    "\n",
    "ab = set(product(a, b))\n",
    "ba = set(product(b, a))\n",
    "bc = set(product(b, c))\n",
    "cb = set(product(c, b))\n",
    "ca = set(product(c, a))\n",
    "ac = set(product(a, c))\n",
    "print(f\"a * b: {ab}\")\n",
    "print(f\"b * a: {ba}\")\n",
    "print(f\"b * c: {bc}\")\n",
    "print(f\"c * b: {cb}\")\n",
    "print(f\"c * a: {ca}\")\n",
    "print(f\"a * c: {ac}\")"
   ]
  },
  {
   "cell_type": "code",
   "execution_count": null,
   "metadata": {},
   "outputs": [],
   "source": []
  }
 ],
 "metadata": {
  "kernelspec": {
   "display_name": "Python 3",
   "language": "python",
   "name": "python3"
  },
  "language_info": {
   "codemirror_mode": {
    "name": "ipython",
    "version": 3
   },
   "file_extension": ".py",
   "mimetype": "text/x-python",
   "name": "python",
   "nbconvert_exporter": "python",
   "pygments_lexer": "ipython3",
   "version": "3.8.5"
  }
 },
 "nbformat": 4,
 "nbformat_minor": 4
}
