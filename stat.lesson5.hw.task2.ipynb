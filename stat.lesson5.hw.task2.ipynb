{
 "cells": [
  {
   "cell_type": "code",
   "execution_count": 83,
   "metadata": {},
   "outputs": [],
   "source": [
    "# 2. В результате 10 независимых измерений некоторой величины X, выполненных с одинаковой точностью,\n",
    "# получены опытные данные:\n",
    "# 6.9, 6.1, 6.2, 6.8, 7.5, 6.3, 6.4, 6.9, 6.7, 6.1\n",
    "# Предполагая, что результаты измерений подчинены нормальному закону распределения вероятностей,\n",
    "# оценить истинное значение величины X при помощи доверительного интервала, покрывающего это\n",
    "# значение с доверительной вероятностью 0,95."
   ]
  },
  {
   "cell_type": "code",
   "execution_count": 84,
   "metadata": {},
   "outputs": [],
   "source": [
    "data = [6.9, 6.1, 6.2, 6.8, 7.5, 6.3, 6.4, 6.9, 6.7, 6.1]\n",
    "n = 10\n",
    "gamma = 0.95"
   ]
  },
  {
   "cell_type": "code",
   "execution_count": 85,
   "metadata": {},
   "outputs": [
    {
     "name": "stdout",
     "output_type": "stream",
     "text": [
      "Выборочная средняя:\n",
      "6.59\n"
     ]
    }
   ],
   "source": [
    "data_mean = sum(data) / len(data)\n",
    "print(f'Выборочная средняя:\\n{data_mean :.2f}')"
   ]
  },
  {
   "cell_type": "code",
   "execution_count": 86,
   "metadata": {},
   "outputs": [
    {
     "name": "stdout",
     "output_type": "stream",
     "text": [
      "Несмещённая дисперсия:\n",
      "0.2032\n"
     ]
    }
   ],
   "source": [
    "data_variance_unbiased = sum([((datum - data_mean) ** 2) for datum in data]) / (len(data) - 1)\n",
    "print(f'Несмещённая дисперсия:\\n{data_variance_unbiased :.4f}')"
   ]
  },
  {
   "cell_type": "code",
   "execution_count": 87,
   "metadata": {},
   "outputs": [
    {
     "name": "stdout",
     "output_type": "stream",
     "text": [
      "Среднее квадратическое отклонение:\n",
      "0.4508\n"
     ]
    }
   ],
   "source": [
    "data_std_unbiased = data_variance_unbiased ** 0.5\n",
    "print(f'Среднее квадратическое отклонение:\\n{data_std_unbiased :.4f}')"
   ]
  },
  {
   "cell_type": "code",
   "execution_count": 88,
   "metadata": {},
   "outputs": [],
   "source": [
    "t_gamma = 2.26 # согласно таблице значений распределения Стьюдента (n = 10, gamma = 0.95)"
   ]
  },
  {
   "cell_type": "code",
   "execution_count": 89,
   "metadata": {},
   "outputs": [
    {
     "name": "stdout",
     "output_type": "stream",
     "text": [
      "Доверительный интервал:\n",
      "6.2678 < a < 6.9122\n",
      "Данный интервал с доверительной вероятностью 0.95 покрывает истинное значение величины X.\n"
     ]
    }
   ],
   "source": [
    "delta = (t_gamma * data_std_unbiased) / (n ** 0.5)\n",
    "interval_bottom = data_mean - delta\n",
    "interval_top = data_mean + delta\n",
    "print(f'Доверительный интервал:\\n{interval_bottom :.4f} < a < {interval_top :.4f}\\nДанный интервал с доверительной вероятностью 0.95 покрывает истинное значение величины X.')"
   ]
  }
 ],
 "metadata": {
  "kernelspec": {
   "display_name": "Python 3",
   "language": "python",
   "name": "python3"
  },
  "language_info": {
   "codemirror_mode": {
    "name": "ipython",
    "version": 3
   },
   "file_extension": ".py",
   "mimetype": "text/x-python",
   "name": "python",
   "nbconvert_exporter": "python",
   "pygments_lexer": "ipython3",
   "version": "3.8.5"
  }
 },
 "nbformat": 4,
 "nbformat_minor": 4
}
