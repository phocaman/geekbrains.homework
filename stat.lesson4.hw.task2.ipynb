{
 "cells": [
  {
   "cell_type": "code",
   "execution_count": 1,
   "metadata": {},
   "outputs": [],
   "source": [
    "# 2. О случайной непрерывной равномерно распределенной величине B известно, что ее дисперсия равна 0.2.\n",
    "# Можно ли найти правую границу величины B и ее среднее значение зная, что левая граница равна 0.5?\n",
    "# Если да, найдите ее."
   ]
  },
  {
   "cell_type": "code",
   "execution_count": 2,
   "metadata": {},
   "outputs": [
    {
     "name": "stdout",
     "output_type": "stream",
     "text": [
      "Правая граница величины B:\n",
      "2.04919\n"
     ]
    }
   ],
   "source": [
    "a = 0.5\n",
    "# b = x\n",
    "d_B = 0.2\n",
    " \n",
    "# ((x - 0.5)^2) / 12 = 0.2\n",
    "# 12 * ((x - 0.5)^2) / 12 = 12 * 0.2\n",
    "# (x - 0.5)^2 = 2.4\n",
    "# x - 0.5 = V2.4\n",
    "# x = V2.4 + 0.5 ~ 2.04919\n",
    "\n",
    "b = 2.04919\n",
    "print(f'Правая граница величины B:\\n{b}')"
   ]
  },
  {
   "cell_type": "code",
   "execution_count": 3,
   "metadata": {},
   "outputs": [
    {
     "name": "stdout",
     "output_type": "stream",
     "text": [
      "Математическое ожидание (среднее значение) величины B:\n",
      "1.274595\n"
     ]
    }
   ],
   "source": [
    "m_B = (a + b) / 2\n",
    "print(f'Математическое ожидание (среднее значение) величины B:\\n{m_B}')"
   ]
  }
 ],
 "metadata": {
  "kernelspec": {
   "display_name": "Python 3",
   "language": "python",
   "name": "python3"
  },
  "language_info": {
   "codemirror_mode": {
    "name": "ipython",
    "version": 3
   },
   "file_extension": ".py",
   "mimetype": "text/x-python",
   "name": "python",
   "nbconvert_exporter": "python",
   "pygments_lexer": "ipython3",
   "version": "3.8.5"
  }
 },
 "nbformat": 4,
 "nbformat_minor": 4
}
