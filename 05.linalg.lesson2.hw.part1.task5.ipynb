{
 "cells": [
  {
   "cell_type": "code",
   "execution_count": 182,
   "metadata": {},
   "outputs": [],
   "source": [
    "# 5*. Написать на Python функцию для перемножения двух произвольных матриц, не используя NumPy."
   ]
  },
  {
   "cell_type": "code",
   "execution_count": 183,
   "metadata": {},
   "outputs": [],
   "source": [
    "# Функция\n",
    "\n",
    "def multiply_matrices(a, b):\n",
    "    return print([[sum(a * b for a, b in zip(a_row, a_col)) for a_col in zip(*b)] for a_row in a])"
   ]
  },
  {
   "cell_type": "code",
   "execution_count": 184,
   "metadata": {},
   "outputs": [
    {
     "name": "stdout",
     "output_type": "stream",
     "text": [
      "[[76, 82], [184, 199], [292, 316]]\n"
     ]
    }
   ],
   "source": [
    "# Тест 1\n",
    "\n",
    "a = ([[1, 2, 3],\n",
    "      [4, 5, 6],\n",
    "      [7, 8, 9]])\n",
    "b = ([[10, 11],\n",
    "      [12, 13],\n",
    "      [14, 15]])\n",
    "\n",
    "multiply_matrices(a, b)"
   ]
  },
  {
   "cell_type": "code",
   "execution_count": 185,
   "metadata": {},
   "outputs": [
    {
     "name": "stdout",
     "output_type": "stream",
     "text": [
      "[[190, 200, 210], [470, 496, 522], [750, 792, 834]]\n"
     ]
    }
   ],
   "source": [
    "# Тест 2\n",
    "\n",
    "a = ([[1, 2, 3, 4],\n",
    "      [5, 6, 7, 8],\n",
    "      [9, 10, 11, 12]])\n",
    "b = ([[13, 14, 15],\n",
    "      [16, 17, 18],\n",
    "      [19, 20, 21],\n",
    "      [22, 23, 24]])\n",
    "\n",
    "multiply_matrices(a, b)"
   ]
  },
  {
   "cell_type": "code",
   "execution_count": 186,
   "metadata": {},
   "outputs": [
    {
     "name": "stdout",
     "output_type": "stream",
     "text": [
      "[[21591, 24147, 26703], [32247, 35928, 39609], [25329, 28017, 30705]]\n"
     ]
    }
   ],
   "source": [
    "# Тест 3\n",
    "\n",
    "a = ([[123, 456, 789, 654, 321, 213],\n",
    "      [546, 978, 213, 645, 312, 987],\n",
    "      [135, 246, 802, 680, 468, 357]])\n",
    "b = ([[1, 2, 3],\n",
    "      [4, 5, 6],\n",
    "      [7, 8, 9],\n",
    "      [10, 11, 12],\n",
    "      [13, 14, 15],\n",
    "      [16, 17, 18]])\n",
    "\n",
    "multiply_matrices(a, b)"
   ]
  },
  {
   "cell_type": "code",
   "execution_count": 187,
   "metadata": {},
   "outputs": [],
   "source": [
    "# Проверка работы функции посредством библиотеки SymPy\n",
    "\n",
    "from sympy import *"
   ]
  },
  {
   "cell_type": "code",
   "execution_count": 188,
   "metadata": {},
   "outputs": [
    {
     "data": {
      "text/latex": [
       "$\\displaystyle \\left[\\begin{matrix}76 & 82\\\\184 & 199\\\\292 & 316\\end{matrix}\\right]$"
      ],
      "text/plain": [
       "Matrix([\n",
       "[ 76,  82],\n",
       "[184, 199],\n",
       "[292, 316]])"
      ]
     },
     "execution_count": 188,
     "metadata": {},
     "output_type": "execute_result"
    }
   ],
   "source": [
    "# Тест 1\n",
    "\n",
    "a = Matrix([[1, 2, 3],\n",
    "            [4, 5, 6],\n",
    "            [7, 8, 9]])\n",
    "b = Matrix([[10, 11],\n",
    "            [12, 13],\n",
    "            [14, 15]])\n",
    "a@b"
   ]
  },
  {
   "cell_type": "code",
   "execution_count": 189,
   "metadata": {},
   "outputs": [
    {
     "data": {
      "text/latex": [
       "$\\displaystyle \\left[\\begin{matrix}190 & 200 & 210\\\\470 & 496 & 522\\\\750 & 792 & 834\\end{matrix}\\right]$"
      ],
      "text/plain": [
       "Matrix([\n",
       "[190, 200, 210],\n",
       "[470, 496, 522],\n",
       "[750, 792, 834]])"
      ]
     },
     "execution_count": 189,
     "metadata": {},
     "output_type": "execute_result"
    }
   ],
   "source": [
    "# Тест 2\n",
    "\n",
    "a = Matrix([[1, 2, 3, 4],\n",
    "            [5, 6, 7, 8],\n",
    "            [9, 10, 11, 12]])\n",
    "b = Matrix([[13, 14, 15],\n",
    "            [16, 17, 18],\n",
    "            [19, 20, 21],\n",
    "            [22, 23, 24]])\n",
    "a@b"
   ]
  },
  {
   "cell_type": "code",
   "execution_count": 190,
   "metadata": {},
   "outputs": [
    {
     "data": {
      "text/latex": [
       "$\\displaystyle \\left[\\begin{matrix}21591 & 24147 & 26703\\\\32247 & 35928 & 39609\\\\25329 & 28017 & 30705\\end{matrix}\\right]$"
      ],
      "text/plain": [
       "Matrix([\n",
       "[21591, 24147, 26703],\n",
       "[32247, 35928, 39609],\n",
       "[25329, 28017, 30705]])"
      ]
     },
     "execution_count": 190,
     "metadata": {},
     "output_type": "execute_result"
    }
   ],
   "source": [
    "# Тест 3\n",
    "\n",
    "a = Matrix([[123, 456, 789, 654, 321, 213],\n",
    "            [546, 978, 213, 645, 312, 987],\n",
    "            [135, 246, 802, 680, 468, 357]])\n",
    "b = Matrix([[1, 2, 3],\n",
    "            [4, 5, 6],\n",
    "            [7, 8, 9],\n",
    "            [10, 11, 12],\n",
    "            [13, 14, 15],\n",
    "            [16, 17, 18]])\n",
    "a@b"
   ]
  }
 ],
 "metadata": {
  "kernelspec": {
   "display_name": "Python 3",
   "language": "python",
   "name": "python3"
  },
  "language_info": {
   "codemirror_mode": {
    "name": "ipython",
    "version": 3
   },
   "file_extension": ".py",
   "mimetype": "text/x-python",
   "name": "python",
   "nbconvert_exporter": "python",
   "pygments_lexer": "ipython3",
   "version": "3.8.5"
  }
 },
 "nbformat": 4,
 "nbformat_minor": 4
}
