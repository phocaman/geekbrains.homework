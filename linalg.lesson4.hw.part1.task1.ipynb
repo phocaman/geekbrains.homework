{
 "cells": [
  {
   "cell_type": "code",
   "execution_count": 17,
   "metadata": {},
   "outputs": [],
   "source": [
    "# 1. Решить систему уравнений методом Гаусса:\n",
    "# 𝑥1 + 𝑥2 − 𝑥3 − 2𝑥4 = 0\n",
    "# 2𝑥1 + 𝑥2 − 𝑥3 + 𝑥4 = −2\n",
    "# 𝑥1 + 𝑥2 − 3𝑥3 + 𝑥4 = 4"
   ]
  },
  {
   "cell_type": "code",
   "execution_count": 18,
   "metadata": {},
   "outputs": [],
   "source": [
    "from sympy import *"
   ]
  },
  {
   "cell_type": "code",
   "execution_count": 19,
   "metadata": {},
   "outputs": [],
   "source": [
    "a = Matrix([[1, 1, -1, 2],\n",
    "            [2, 1, -1, 1],\n",
    "            [1, 1, -3, 1]])\n",
    "ab = Matrix([[1, 1, -1, 2, 0],\n",
    "            [2, 1, -1, 1, -2],\n",
    "            [1, 1, -3, 1, 4]])"
   ]
  },
  {
   "cell_type": "code",
   "execution_count": 20,
   "metadata": {},
   "outputs": [
    {
     "name": "stdout",
     "output_type": "stream",
     "text": [
      "Ранг матрицы системы:\n",
      "3\n"
     ]
    }
   ],
   "source": [
    "print(f'Ранг матрицы системы:\\n{a.rank()}')\n",
    "# Результат: 3"
   ]
  },
  {
   "cell_type": "code",
   "execution_count": 21,
   "metadata": {},
   "outputs": [
    {
     "name": "stdout",
     "output_type": "stream",
     "text": [
      "Ранг расширенной матрицы:\n",
      "3\n"
     ]
    }
   ],
   "source": [
    "print(f'Ранг расширенной матрицы:\\n{ab.rank()}')\n",
    "# Результат: 3"
   ]
  },
  {
   "cell_type": "code",
   "execution_count": 22,
   "metadata": {},
   "outputs": [],
   "source": [
    "# Система совместна и имеет бесконечное множество решений."
   ]
  },
  {
   "cell_type": "code",
   "execution_count": 23,
   "metadata": {},
   "outputs": [],
   "source": [
    "# Общее решение системы методом Гаусса:"
   ]
  },
  {
   "cell_type": "code",
   "execution_count": 24,
   "metadata": {},
   "outputs": [],
   "source": [
    "rref_matrix, rref_pivots = ab.rref()"
   ]
  },
  {
   "cell_type": "code",
   "execution_count": 25,
   "metadata": {},
   "outputs": [
    {
     "name": "stdout",
     "output_type": "stream",
     "text": [
      "Матрица, приведённая к ступенчатому виду:\n"
     ]
    },
    {
     "data": {
      "text/latex": [
       "$\\displaystyle \\left[\\begin{matrix}1 & 0 & 0 & -1 & -2\\\\0 & 1 & 0 & \\frac{7}{2} & 0\\\\0 & 0 & 1 & \\frac{1}{2} & -2\\end{matrix}\\right]$"
      ],
      "text/plain": [
       "Matrix([\n",
       "[1, 0, 0,  -1, -2],\n",
       "[0, 1, 0, 7/2,  0],\n",
       "[0, 0, 1, 1/2, -2]])"
      ]
     },
     "execution_count": 25,
     "metadata": {},
     "output_type": "execute_result"
    }
   ],
   "source": [
    "print('Матрица, приведённая к ступенчатому виду:')\n",
    "rref_matrix"
   ]
  },
  {
   "cell_type": "code",
   "execution_count": 26,
   "metadata": {},
   "outputs": [
    {
     "name": "stdout",
     "output_type": "stream",
     "text": [
      "Базисные переменные:\n"
     ]
    },
    {
     "data": {
      "text/plain": [
       "(0, 1, 2)"
      ]
     },
     "execution_count": 26,
     "metadata": {},
     "output_type": "execute_result"
    }
   ],
   "source": [
    "print('Базисные переменные:')\n",
    "rref_pivots"
   ]
  },
  {
   "cell_type": "code",
   "execution_count": 27,
   "metadata": {},
   "outputs": [],
   "source": [
    "# Ответ: x1 = x4 - 2; x2 = -7x4/2; x3 = -x4/2 - 2; x4 = 1 "
   ]
  },
  {
   "cell_type": "code",
   "execution_count": 28,
   "metadata": {},
   "outputs": [],
   "source": [
    "# Проверка:"
   ]
  },
  {
   "cell_type": "code",
   "execution_count": 29,
   "metadata": {},
   "outputs": [],
   "source": [
    "b = Matrix([0, -2, 4])"
   ]
  },
  {
   "cell_type": "code",
   "execution_count": 30,
   "metadata": {},
   "outputs": [],
   "source": [
    "x1, x2, x3, x4 = symbols('x1 x2 x3 x4')"
   ]
  },
  {
   "cell_type": "code",
   "execution_count": 31,
   "metadata": {},
   "outputs": [
    {
     "data": {
      "text/latex": [
       "$\\displaystyle \\left\\{\\left( x_{4} - 2, \\  - \\frac{7 x_{4}}{2}, \\  - \\frac{x_{4}}{2} - 2, \\  x_{4}\\right)\\right\\}$"
      ],
      "text/plain": [
       "FiniteSet((x4 - 2, -7*x4/2, -x4/2 - 2, x4))"
      ]
     },
     "execution_count": 31,
     "metadata": {},
     "output_type": "execute_result"
    }
   ],
   "source": [
    "linsolve((a, b), [x1, x2, x3, x4])"
   ]
  },
  {
   "cell_type": "code",
   "execution_count": 32,
   "metadata": {},
   "outputs": [],
   "source": [
    "# Ответ: x1 = x4 - 2; x2 = -7x4/2; x3 = -x4/2 - 2; x4 = 1 "
   ]
  }
 ],
 "metadata": {
  "kernelspec": {
   "display_name": "Python 3",
   "language": "python",
   "name": "python3"
  },
  "language_info": {
   "codemirror_mode": {
    "name": "ipython",
    "version": 3
   },
   "file_extension": ".py",
   "mimetype": "text/x-python",
   "name": "python",
   "nbconvert_exporter": "python",
   "pygments_lexer": "ipython3",
   "version": "3.8.5"
  }
 },
 "nbformat": 4,
 "nbformat_minor": 4
}
