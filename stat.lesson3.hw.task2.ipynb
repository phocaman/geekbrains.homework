{
 "cells": [
  {
   "cell_type": "code",
   "execution_count": 1,
   "metadata": {},
   "outputs": [],
   "source": [
    "# 2. В первом ящике находится 8 мячей, из которых 5 - белые.\n",
    "# Во втором ящике - 12 мячей, из которых 5 белых.\n",
    "# Из первого ящика вытаскивают случайным образом два мяча, из второго - 4.\n",
    "# Какова вероятность того, что 3 мяча белые?"
   ]
  },
  {
   "cell_type": "code",
   "execution_count": 2,
   "metadata": {},
   "outputs": [],
   "source": [
    "import math"
   ]
  },
  {
   "cell_type": "code",
   "execution_count": 3,
   "metadata": {},
   "outputs": [],
   "source": [
    "def combinations(n, k):\n",
    "    return int(math.factorial(n) / (math.factorial(k) * math.factorial(n - k)))"
   ]
  },
  {
   "cell_type": "code",
   "execution_count": 4,
   "metadata": {},
   "outputs": [
    {
     "name": "stdout",
     "output_type": "stream",
     "text": [
      "28\n",
      "495\n"
     ]
    }
   ],
   "source": [
    "n1 = combinations(8, 2) # количество элементарных событий для первого ящика\n",
    "print(n1)\n",
    "n2 = combinations(12, 4) # количество элементарных событий для второго ящика\n",
    "print(n2)"
   ]
  },
  {
   "cell_type": "code",
   "execution_count": 5,
   "metadata": {},
   "outputs": [],
   "source": [
    "b1 = combinations(5, 2) # 2 белых мяча из первого ящика А\n",
    "b2 = combinations(5, 1) * combinations(3, 1) # 1 белый мяч из первого ящика, 1 чёрный мяч из первого ящика Б\n",
    "b3 = combinations(3, 2) # 2 чёрных мяча из первого ящика В\n",
    "c1 = combinations(5, 4) # 4 белых мяча из второго ящика\n",
    "c2 = combinations(5, 3) * combinations(7, 1) # 3 белых мяча из второго ящика, 1 чёрный мяч из второго ящика В\n",
    "c3 = combinations(5, 2) * combinations(7, 2) # 2 белых мяча из второго ящика, 2 чёрных мяча из второго ящика Б\n",
    "c4 = combinations(5, 1) * combinations(7, 3) # 1 белый мяч из второго ящика, 3 чёрных мяча из второго ящика А\n",
    "c5 = combinations(7, 4) # 4 чёрных мяча из второго ящика"
   ]
  },
  {
   "cell_type": "code",
   "execution_count": 6,
   "metadata": {},
   "outputs": [
    {
     "name": "stdout",
     "output_type": "stream",
     "text": [
      "Вероятность того, что три мяча белые:\n",
      "0.62139\n"
     ]
    }
   ],
   "source": [
    "p_a = ((b1/n1)*(c4/n2))+((b2/n1)*(c3/n2))+((b3/n1)*(c2/n1))\n",
    "print(f'Вероятность того, что три мяча белые:\\n{p_a :.5f}')"
   ]
  }
 ],
 "metadata": {
  "kernelspec": {
   "display_name": "Python 3",
   "language": "python",
   "name": "python3"
  },
  "language_info": {
   "codemirror_mode": {
    "name": "ipython",
    "version": 3
   },
   "file_extension": ".py",
   "mimetype": "text/x-python",
   "name": "python",
   "nbconvert_exporter": "python",
   "pygments_lexer": "ipython3",
   "version": "3.8.5"
  }
 },
 "nbformat": 4,
 "nbformat_minor": 4
}
