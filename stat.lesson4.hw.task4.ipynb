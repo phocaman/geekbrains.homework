{
 "cells": [
  {
   "cell_type": "code",
   "execution_count": 286,
   "metadata": {},
   "outputs": [],
   "source": [
    "# 4. Рост взрослого населения города X имеет нормальное распределение.\n",
    "# Причем, средний рост равен 174 см, а среднее квадратичное отклонение равно 8 см.\n",
    "# Какова вероятность того, что случайным образом выбранный взрослый человек имеет рост:\n",
    "# а). больше 182 см\n",
    "# б). больше 190 см\n",
    "# в). от 166 см до 190 см\n",
    "# г). от 166 см до 182 см\n",
    "# д). от 158 см до 190 см\n",
    "# е). не выше 150 см или не ниже 190 см\n",
    "# ё). не выше 150 см или не ниже 198 см\n",
    "# ж). ниже 166 см."
   ]
  },
  {
   "cell_type": "code",
   "execution_count": 287,
   "metadata": {},
   "outputs": [],
   "source": [
    "from scipy import special"
   ]
  },
  {
   "cell_type": "code",
   "execution_count": 288,
   "metadata": {},
   "outputs": [],
   "source": [
    "m_X = 174\n",
    "std_X = 8"
   ]
  },
  {
   "cell_type": "code",
   "execution_count": 289,
   "metadata": {},
   "outputs": [],
   "source": [
    "def z_value(x, m, std):\n",
    "    return (x - m) / std"
   ]
  },
  {
   "cell_type": "code",
   "execution_count": 290,
   "metadata": {},
   "outputs": [],
   "source": [
    "# а) P(X > 182)"
   ]
  },
  {
   "cell_type": "code",
   "execution_count": 291,
   "metadata": {},
   "outputs": [
    {
     "name": "stdout",
     "output_type": "stream",
     "text": [
      "P(X > 182):\n",
      "0.1587\n"
     ]
    }
   ],
   "source": [
    "z = z_value(182, m_X, std_X)\n",
    "p_b = special.ndtr(z)\n",
    "p_a = 1 - p_b\n",
    "# print(z)\n",
    "# print(p_b)\n",
    "print(f'P(X > 182):\\n{p_a :.4f}')"
   ]
  },
  {
   "cell_type": "code",
   "execution_count": 292,
   "metadata": {},
   "outputs": [],
   "source": [
    "# б) P(X > 190)"
   ]
  },
  {
   "cell_type": "code",
   "execution_count": 293,
   "metadata": {},
   "outputs": [
    {
     "name": "stdout",
     "output_type": "stream",
     "text": [
      "P(X > 190):\n",
      "0.0228\n"
     ]
    }
   ],
   "source": [
    "z = z_value(190, m_X, std_X)\n",
    "p_b = special.ndtr(z)\n",
    "p_a = 1 - p_b\n",
    "# print(z)\n",
    "# print(p_b)\n",
    "print(f'P(X > 190):\\n{p_a :.4f}')"
   ]
  },
  {
   "cell_type": "code",
   "execution_count": 294,
   "metadata": {},
   "outputs": [],
   "source": [
    "# в) P(166 <= X <= 190)"
   ]
  },
  {
   "cell_type": "code",
   "execution_count": 295,
   "metadata": {},
   "outputs": [
    {
     "name": "stdout",
     "output_type": "stream",
     "text": [
      "P(166 <= X <= 190):\n",
      "0.8186\n"
     ]
    }
   ],
   "source": [
    "z1 = z_value(166, m_X, std_X)\n",
    "z2 = z_value(190, m_X, std_X)\n",
    "p_z1 = special.ndtr(z1)\n",
    "p_z2 = special.ndtr(z2)\n",
    "p_a = p_z2 - p_z1\n",
    "# print(z1)\n",
    "# print(z2)\n",
    "# print(p_z1)\n",
    "# print(p_z2)\n",
    "print(f'P(166 <= X <= 190):\\n{p_a :.4f}')"
   ]
  },
  {
   "cell_type": "code",
   "execution_count": 296,
   "metadata": {},
   "outputs": [],
   "source": [
    "# г) P(166 <= X <= 182)"
   ]
  },
  {
   "cell_type": "code",
   "execution_count": 297,
   "metadata": {},
   "outputs": [
    {
     "name": "stdout",
     "output_type": "stream",
     "text": [
      "P(166 <= X <= 182):\n",
      "0.6827\n"
     ]
    }
   ],
   "source": [
    "z1 = z_value(166, m_X, std_X)\n",
    "z2 = z_value(182, m_X, std_X)\n",
    "p_z1 = special.ndtr(z1)\n",
    "p_z2 = special.ndtr(z2)\n",
    "p_a = p_z2 - p_z1\n",
    "# print(z1)\n",
    "# print(z2)\n",
    "# print(p_z1)\n",
    "# print(p_z2)\n",
    "print(f'P(166 <= X <= 182):\\n{p_a :.4f}')"
   ]
  },
  {
   "cell_type": "code",
   "execution_count": 298,
   "metadata": {},
   "outputs": [],
   "source": [
    "# д) P(158 <= X <= 190)"
   ]
  },
  {
   "cell_type": "code",
   "execution_count": 299,
   "metadata": {},
   "outputs": [
    {
     "name": "stdout",
     "output_type": "stream",
     "text": [
      "P(158 <= X <= 190):\n",
      "0.9545\n"
     ]
    }
   ],
   "source": [
    "z1 = z_value(158, m_X, std_X)\n",
    "z2 = z_value(190, m_X, std_X)\n",
    "p_z1 = special.ndtr(z1)\n",
    "p_z2 = special.ndtr(z2)\n",
    "p_a = p_z2 - p_z1\n",
    "# print(z1)\n",
    "# print(z2)\n",
    "# print(p_z1)\n",
    "# print(p_z2)\n",
    "print(f'P(158 <= X <= 190):\\n{p_a :.4f}')"
   ]
  },
  {
   "cell_type": "code",
   "execution_count": 300,
   "metadata": {},
   "outputs": [],
   "source": [
    "# е) P(X <= 150), P(X >= 190)"
   ]
  },
  {
   "cell_type": "code",
   "execution_count": 301,
   "metadata": {},
   "outputs": [
    {
     "name": "stdout",
     "output_type": "stream",
     "text": [
      "P(X <= 150):\n",
      "0.0013\n",
      "P(X >= 190):\n",
      "0.0228\n",
      "P(X <= 150) или P(X >= 190):\n",
      "0.0241\n"
     ]
    }
   ],
   "source": [
    "z1 = z_value(150, m_X, std_X)\n",
    "p_a1 = special.ndtr(z1)\n",
    "# print(z1)\n",
    "print(f'P(X <= 150):\\n{p_a1 :.4f}')\n",
    "z2 = z_value(190, m_X, std_X)\n",
    "p_z2 = special.ndtr(z2)\n",
    "p_a2 = 1 - p_z2\n",
    "# print(z2)\n",
    "# print(p_z2)\n",
    "print(f'P(X >= 190):\\n{p_a2 :.4f}')\n",
    "p_a3 = p_a1 + p_a2\n",
    "print(f'P(X <= 150) или P(X >= 190):\\n{p_a3 :.4f}')"
   ]
  },
  {
   "cell_type": "code",
   "execution_count": 302,
   "metadata": {},
   "outputs": [],
   "source": [
    "# ё) P(X <= 150) или P(X >= 198)"
   ]
  },
  {
   "cell_type": "code",
   "execution_count": 303,
   "metadata": {},
   "outputs": [
    {
     "name": "stdout",
     "output_type": "stream",
     "text": [
      "P(X <= 150):\n",
      "0.0013\n",
      "P(X >= 190):\n",
      "0.0013\n",
      "P(X <= 150) или P(X >= 198):\n",
      "0.0027\n"
     ]
    }
   ],
   "source": [
    "z1 = z_value(150, m_X, std_X)\n",
    "p_a1 = special.ndtr(z1)\n",
    "# print(z1)\n",
    "print(f'P(X <= 150):\\n{p_a1 :.4f}')\n",
    "z2 = z_value(198, m_X, std_X)\n",
    "p_z2 = special.ndtr(z2)\n",
    "p_a2 = 1 - p_z2\n",
    "# print(z2)\n",
    "# print(p_z2)\n",
    "print(f'P(X >= 190):\\n{p_a2 :.4f}')\n",
    "p_a3 = p_a1 + p_a2\n",
    "print(f'P(X <= 150) или P(X >= 198):\\n{p_a3 :.4f}')"
   ]
  },
  {
   "cell_type": "code",
   "execution_count": 304,
   "metadata": {},
   "outputs": [],
   "source": [
    "# ж) P(X < 166)"
   ]
  },
  {
   "cell_type": "code",
   "execution_count": 305,
   "metadata": {},
   "outputs": [
    {
     "name": "stdout",
     "output_type": "stream",
     "text": [
      "P(X < 166):\n",
      "0.1587\n"
     ]
    }
   ],
   "source": [
    "z = z_value(166, m_X, std_X)\n",
    "p_a = special.ndtr(z)\n",
    "# print(z)\n",
    "print(f'P(X < 166):\\n{p_a :.4f}')"
   ]
  }
 ],
 "metadata": {
  "kernelspec": {
   "display_name": "Python 3",
   "language": "python",
   "name": "python3"
  },
  "language_info": {
   "codemirror_mode": {
    "name": "ipython",
    "version": 3
   },
   "file_extension": ".py",
   "mimetype": "text/x-python",
   "name": "python",
   "nbconvert_exporter": "python",
   "pygments_lexer": "ipython3",
   "version": "3.8.5"
  }
 },
 "nbformat": 4,
 "nbformat_minor": 4
}
