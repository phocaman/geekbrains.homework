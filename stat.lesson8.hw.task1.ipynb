{
 "cells": [
  {
   "cell_type": "code",
   "execution_count": 1,
   "metadata": {},
   "outputs": [],
   "source": [
    "# 1. Провести дисперсионный анализ для определения того, есть ли различия среднего роста среди взрослых футболистов,\n",
    "# хоккеистов и штангистов. Даны значения роста в трех группах случайно выбранных спортсменов:\n",
    "# Футболисты: 173, 175, 180, 178, 177, 185, 183, 182.\n",
    "# Хоккеисты: 177, 179, 180, 188, 177, 172, 171, 184, 180.\n",
    "# Штангисты: 172, 173, 169, 177, 166, 180, 178, 177, 172, 166, 170.\n",
    "# alpha = 0.05."
   ]
  },
  {
   "cell_type": "code",
   "execution_count": 2,
   "metadata": {},
   "outputs": [],
   "source": [
    "from scipy.stats import f_oneway"
   ]
  },
  {
   "cell_type": "code",
   "execution_count": 3,
   "metadata": {},
   "outputs": [],
   "source": [
    "soccer_players_height = [173, 175, 180, 178, 177, 185, 183, 182]\n",
    "ice_hockey_players_height = [177, 179, 180, 188, 177, 172, 171, 184, 180]\n",
    "weight_lifters_height = [172, 173, 169, 177, 166, 180, 178, 177, 172, 166, 170]"
   ]
  },
  {
   "cell_type": "code",
   "execution_count": 4,
   "metadata": {},
   "outputs": [
    {
     "name": "stdout",
     "output_type": "stream",
     "text": [
      "F_h = 5.5001\n"
     ]
    }
   ],
   "source": [
    "F_h = f_oneway(soccer_players_height, ice_hockey_players_height, weight_lifters_height)[0]\n",
    "print(f'F_h = {F_h :.4f}')"
   ]
  },
  {
   "cell_type": "code",
   "execution_count": 5,
   "metadata": {},
   "outputs": [
    {
     "name": "stdout",
     "output_type": "stream",
     "text": [
      "Число степеней свободы числителя:\n",
      "2\n",
      "Число степеней свободы знаменателя:\n",
      "25\n"
     ]
    }
   ],
   "source": [
    "k = 3\n",
    "n = len(soccer_players_height) + len(ice_hockey_players_height) + len(weight_lifters_height)\n",
    "numerator = k - 1\n",
    "denominator = n - k\n",
    "print(f'Число степеней свободы числителя:\\n{numerator}')\n",
    "print(f'Число степеней свободы знаменателя:\\n{denominator}')"
   ]
  },
  {
   "cell_type": "code",
   "execution_count": 6,
   "metadata": {},
   "outputs": [],
   "source": [
    "F_critical = 3.38  # согласно таблице критических точек распределения Фишера-Снедекора для уровня значимости alpha = 0.05"
   ]
  },
  {
   "cell_type": "code",
   "execution_count": 7,
   "metadata": {},
   "outputs": [
    {
     "name": "stdout",
     "output_type": "stream",
     "text": [
      "Различие средних значений роста в трёх группах статистически значимо.\n"
     ]
    }
   ],
   "source": [
    "if F_h > F_critical:\n",
    "    print('Различие средних значений роста в трёх группах статистически значимо.')\n",
    "else:\n",
    "    print('Различие средних значений роста в трёх группах статистически незначимо.')"
   ]
  }
 ],
 "metadata": {
  "kernelspec": {
   "display_name": "Python 3",
   "language": "python",
   "name": "python3"
  },
  "language_info": {
   "codemirror_mode": {
    "name": "ipython",
    "version": 3
   },
   "file_extension": ".py",
   "mimetype": "text/x-python",
   "name": "python",
   "nbconvert_exporter": "python",
   "pygments_lexer": "ipython3",
   "version": "3.8.5"
  }
 },
 "nbformat": 4,
 "nbformat_minor": 4
}
