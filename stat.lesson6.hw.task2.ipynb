{
 "cells": [
  {
   "cell_type": "code",
   "execution_count": 8,
   "metadata": {},
   "outputs": [],
   "source": [
    "# 2. Измерены значения IQ выборки студентов,\n",
    "# обучающихся в местных технических вузах:\n",
    "# 131, 125, 115, 122, 131, 115, 107, 99, 125, 111.\n",
    "# Известно, что в генеральной совокупности IQ распределен нормально.\n",
    "# Найдите доверительный интервал для математического ожидания с надежностью 0.95."
   ]
  },
  {
   "cell_type": "code",
   "execution_count": 9,
   "metadata": {},
   "outputs": [],
   "source": [
    "iq_values = [131, 125, 115, 122, 131, 115, 107, 99, 125, 111]\n",
    "n = len(iq_values)\n",
    "gamma = 0.95"
   ]
  },
  {
   "cell_type": "code",
   "execution_count": 10,
   "metadata": {},
   "outputs": [
    {
     "name": "stdout",
     "output_type": "stream",
     "text": [
      "Выборочная средняя:\n",
      "118.10\n"
     ]
    }
   ],
   "source": [
    "M = sum(iq_values) / n\n",
    "print(f'Выборочная средняя:\\n{M :.2f}')"
   ]
  },
  {
   "cell_type": "code",
   "execution_count": 11,
   "metadata": {},
   "outputs": [
    {
     "name": "stdout",
     "output_type": "stream",
     "text": [
      "Несмещённая дисперсия:\n",
      "8.5474\n"
     ]
    }
   ],
   "source": [
    "variance = sum([((iq_value - M) ** 2) for iq_value in iq_values]) / (M - 1)\n",
    "print(f'Несмещённая дисперсия:\\n{variance :.4f}')"
   ]
  },
  {
   "cell_type": "code",
   "execution_count": 12,
   "metadata": {},
   "outputs": [
    {
     "name": "stdout",
     "output_type": "stream",
     "text": [
      "Среднее квадратическое отклонение:\n",
      "2.9236\n"
     ]
    }
   ],
   "source": [
    "sigma = variance ** 0.5\n",
    "print(f'Среднее квадратическое отклонение:\\n{sigma :.4f}')"
   ]
  },
  {
   "cell_type": "code",
   "execution_count": 13,
   "metadata": {},
   "outputs": [],
   "source": [
    "t_gamma = 2.26 # согласно таблице значений распределения Стьюдента (n = 10, gamma = 0.95)"
   ]
  },
  {
   "cell_type": "code",
   "execution_count": 14,
   "metadata": {},
   "outputs": [
    {
     "name": "stdout",
     "output_type": "stream",
     "text": [
      "Доверительный интервал:\n",
      "116.0106 < a < 120.1894\n"
     ]
    }
   ],
   "source": [
    "delta = (t_gamma * sigma) / (n ** 0.5)\n",
    "interval_bottom = M - delta\n",
    "interval_top = M + delta\n",
    "print(f'Доверительный интервал:\\n{interval_bottom :.4f} < a < {interval_top :.4f}')"
   ]
  }
 ],
 "metadata": {
  "kernelspec": {
   "display_name": "Python 3",
   "language": "python",
   "name": "python3"
  },
  "language_info": {
   "codemirror_mode": {
    "name": "ipython",
    "version": 3
   },
   "file_extension": ".py",
   "mimetype": "text/x-python",
   "name": "python",
   "nbconvert_exporter": "python",
   "pygments_lexer": "ipython3",
   "version": "3.8.5"
  }
 },
 "nbformat": 4,
 "nbformat_minor": 4
}
