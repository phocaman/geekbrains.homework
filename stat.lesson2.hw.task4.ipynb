{
 "cells": [
  {
   "cell_type": "code",
   "execution_count": 8,
   "metadata": {},
   "outputs": [],
   "source": [
    "# В первом ящике находится 10 мячей, из которых 7 - белые. Во втором ящике - 11 мячей, из которых 9 белых.\n",
    "# Из каждого ящика вытаскивают случайным образом по два мяча.\n",
    "# а) Какова вероятность того, что все мячи белые?\n",
    "# б) Какова вероятность того, что ровно два мяча белые?\n",
    "# в) Какова вероятность того, что хотя бы один мяч белый?"
   ]
  },
  {
   "cell_type": "code",
   "execution_count": 9,
   "metadata": {},
   "outputs": [],
   "source": [
    "import math"
   ]
  },
  {
   "cell_type": "code",
   "execution_count": 10,
   "metadata": {},
   "outputs": [],
   "source": [
    "def combinations(n, k):\n",
    "    return int(math.factorial(n) / (math.factorial(k) * math.factorial(n - k)))"
   ]
  },
  {
   "cell_type": "code",
   "execution_count": 11,
   "metadata": {},
   "outputs": [
    {
     "name": "stdout",
     "output_type": "stream",
     "text": [
      "45\n",
      "55\n"
     ]
    }
   ],
   "source": [
    "n1 = combinations(10, 2) # количество элементарных событий для первого ящика\n",
    "print(n1)\n",
    "n2 = combinations(11, 2) # количество элементарных событий для второго ящика\n",
    "print(n2)"
   ]
  },
  {
   "cell_type": "code",
   "execution_count": 12,
   "metadata": {},
   "outputs": [
    {
     "name": "stdout",
     "output_type": "stream",
     "text": [
      "21\n",
      "21\n",
      "3\n"
     ]
    }
   ],
   "source": [
    "b1 = combinations(7, 2) # 2 белых мяча из первого ящика\n",
    "print(b1)\n",
    "b2 = combinations(7, 1) * combinations(3, 1) # 1 белый мяч из первого ящика, 1 чёрный мяч из первого ящика\n",
    "print(b2)\n",
    "b3 = combinations(3, 2) # 2 чёрных мяча из первого ящика\n",
    "print(b3)"
   ]
  },
  {
   "cell_type": "code",
   "execution_count": 13,
   "metadata": {},
   "outputs": [
    {
     "name": "stdout",
     "output_type": "stream",
     "text": [
      "36\n",
      "18\n",
      "1\n"
     ]
    }
   ],
   "source": [
    "c1 = combinations(9, 2) # 2 белых мяча из второго ящика\n",
    "print(c1)\n",
    "c2 = combinations(9, 1) * combinations (2, 1) # 1 белый мяч из второго ящика, 1 чёрный мяч из второго ящика\n",
    "print(c2)\n",
    "c3 = combinations(2, 2) # 2 чёрных мяча из второго ящика\n",
    "print(c3)"
   ]
  },
  {
   "cell_type": "code",
   "execution_count": 14,
   "metadata": {},
   "outputs": [
    {
     "name": "stdout",
     "output_type": "stream",
     "text": [
      "Вероятность того, что все мячи белые:\n",
      "0.30545\n",
      "Вероятность того, что ровно два мяча белые:\n",
      "0.20485\n",
      "Вероятность того, что хотя бы один мяч белый:\n",
      "0.99879\n"
     ]
    }
   ],
   "source": [
    "p_a1 = (b1/n1) * (c1/n2)\n",
    "print(f'Вероятность того, что все мячи белые:\\n{p_a1 :.5f}')\n",
    "p_a2 = (b1/n1)*(c3/n2)+(b2/n1)*(c2/n2)+(b3/n1)*(c1/n2)\n",
    "print(f'Вероятность того, что ровно два мяча белые:\\n{p_a2 :.5f}')\n",
    "p_a3 = 1 - ((b3/n1)*(c3/n2))\n",
    "print(f'Вероятность того, что хотя бы один мяч белый:\\n{p_a3 :.5f}')"
   ]
  }
 ],
 "metadata": {
  "kernelspec": {
   "display_name": "Python 3",
   "language": "python",
   "name": "python3"
  },
  "language_info": {
   "codemirror_mode": {
    "name": "ipython",
    "version": 3
   },
   "file_extension": ".py",
   "mimetype": "text/x-python",
   "name": "python",
   "nbconvert_exporter": "python",
   "pygments_lexer": "ipython3",
   "version": "3.8.5"
  }
 },
 "nbformat": 4,
 "nbformat_minor": 4
}
