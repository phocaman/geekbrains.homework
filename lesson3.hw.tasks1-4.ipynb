{
 "cells": [
  {
   "cell_type": "markdown",
   "id": "a7d16e46",
   "metadata": {},
   "source": [
    "# Урок 3. Домашнее задание"
   ]
  },
  {
   "cell_type": "code",
   "execution_count": 49,
   "id": "4463a61c",
   "metadata": {},
   "outputs": [],
   "source": [
    "import numpy as np\n",
    "import matplotlib.pyplot as plt"
   ]
  },
  {
   "cell_type": "code",
   "execution_count": 50,
   "id": "7378b3c7",
   "metadata": {},
   "outputs": [],
   "source": [
    "%matplotlib inline\n",
    "plt.style.use('seaborn-ticks')\n",
    "plt.rcParams.update({'font.size': 14})"
   ]
  },
  {
   "cell_type": "code",
   "execution_count": 51,
   "id": "fa873017",
   "metadata": {},
   "outputs": [],
   "source": [
    "def sigmoid(z):\n",
    "    res = 1 / (1 + np.exp(-z))\n",
    "    return res"
   ]
  },
  {
   "cell_type": "markdown",
   "id": "a97fbbb1",
   "metadata": {},
   "source": [
    "1. Измените функцию `calc_logloss` так, чтобы нули по возможности не попадали в `np.log` (как вариант - использовать `np.clip` или `np.where`)."
   ]
  },
  {
   "cell_type": "code",
   "execution_count": 52,
   "id": "f8fe88a3",
   "metadata": {},
   "outputs": [],
   "source": [
    "# Первоначальная функция:\n",
    "# def calc_logloss(y, y_pred):\n",
    "#     err = np.mean(- y * np.log(y_pred) - (1.0 - y) * np.log(1.0 - y_pred))\n",
    "#     return err\n",
    "\n",
    "epsilon = 1e-5\n",
    "def calc_logloss(y, y_pred):\n",
    "    err = np.mean(- y * np.log(y_pred + epsilon) - (1.0 - y) * np.log(1.0 - y_pred + epsilon))\n",
    "    return err"
   ]
  },
  {
   "cell_type": "code",
   "execution_count": 53,
   "id": "14e098a9",
   "metadata": {},
   "outputs": [
    {
     "data": {
      "text/plain": [
       "array([[1.00e+00, 1.00e+00, 5.00e+02, 1.00e+00],\n",
       "       [1.00e+00, 1.00e+00, 7.00e+02, 1.00e+00],\n",
       "       [1.00e+00, 2.00e+00, 7.50e+02, 2.00e+00],\n",
       "       [1.00e+00, 1.00e+00, 6.00e+02, 1.00e+00],\n",
       "       [1.00e+00, 3.00e+00, 1.45e+03, 2.00e+00],\n",
       "       [1.00e+00, 0.00e+00, 8.00e+02, 1.00e+00],\n",
       "       [1.00e+00, 5.00e+00, 1.50e+03, 3.00e+00],\n",
       "       [1.00e+00, 1.00e+01, 2.00e+03, 3.00e+00],\n",
       "       [1.00e+00, 1.00e+00, 4.50e+02, 1.00e+00],\n",
       "       [1.00e+00, 2.00e+00, 1.00e+03, 2.00e+00]])"
      ]
     },
     "execution_count": 53,
     "metadata": {},
     "output_type": "execute_result"
    }
   ],
   "source": [
    "X = np.array([[1, 1, 1, 1, 1, 1, 1, 1, 1, 1],\n",
    "              [1, 1, 2, 1, 3, 0, 5, 10, 1, 2],\n",
    "              [500, 700, 750, 600, 1450,\n",
    "               800, 1500, 2000, 450, 1000],\n",
    "              [1, 1, 2, 1, 2, 1, 3, 3, 1, 2]],\n",
    "              dtype = np.float64).T \n",
    "\n",
    "y = np.array([0, 0, 1, 0, 1, 0, 1, 0, 1, 1])\n",
    "X"
   ]
  },
  {
   "cell_type": "code",
   "execution_count": 54,
   "id": "46a9ceb4",
   "metadata": {},
   "outputs": [
    {
     "data": {
      "text/plain": [
       "array([-0.97958969, -0.56713087, -0.46401617, -0.77336028,  0.97958969,\n",
       "       -0.36090146,  1.08270439,  2.11385144, -1.08270439,  0.05155735])"
      ]
     },
     "execution_count": 54,
     "metadata": {},
     "output_type": "execute_result"
    }
   ],
   "source": [
    "def standard_scaler(x):\n",
    "    res = (x - x.mean()) / x.std()\n",
    "    return res\n",
    "\n",
    "X_st = X.copy()\n",
    "X_st[:, 2] = standard_scaler(X[:, 2])\n",
    "X_st[:, 2]"
   ]
  },
  {
   "cell_type": "markdown",
   "id": "d5278f3c",
   "metadata": {},
   "source": [
    "2. На данных из урока изучите влияние гиперпараметров на ошибку алгоритма. Подберите аргументы функции `eval_LR_model` для логистической регрессии таким образом, чтобы log loss не превышал значение `0.3` `(0.1).` Как изменились веса?"
   ]
  },
  {
   "cell_type": "code",
   "execution_count": 55,
   "id": "1bcfc876",
   "metadata": {},
   "outputs": [],
   "source": [
    "def eval_LR_model(X, y, iterations, alpha):\n",
    "    np.random.seed(42)\n",
    "    w = np.random.randn(X.shape[1])\n",
    "    n = X.shape[0]\n",
    "    for i in range(1, iterations + 1):\n",
    "        z = np.dot(X, w)\n",
    "        y_pred = sigmoid(z)\n",
    "        err = calc_logloss(y, y_pred)\n",
    "        w -= alpha * (1/n * np.dot((y_pred - y), X))\n",
    "        if i % (iterations / 10) == 0:\n",
    "            print(i, w, err)\n",
    "    return w"
   ]
  },
  {
   "cell_type": "code",
   "execution_count": 56,
   "id": "ce3875f5",
   "metadata": {},
   "outputs": [
    {
     "name": "stdout",
     "output_type": "stream",
     "text": [
      "1000 [-2.77136565 -0.99588853  0.56641089  3.26813012] 0.40586169307445663\n",
      "2000 [-4.59094777 -1.0359998  -0.13825631  4.44501211] 0.3533237624911082\n",
      "3000 [-5.91004767 -1.08773886 -0.62127728  5.36155604] 0.32499851416975567\n",
      "4000 [-6.96133333 -1.14371437 -0.98694403  6.13057114] 0.3066095638641659\n",
      "5000 [-7.85498033 -1.19935714 -1.28748713  6.80564285] 0.29311009630153567\n",
      "6000 [-8.64731257 -1.25347799 -1.54786532  7.41682354] 0.2823791730492525\n",
      "7000 [-9.36966717 -1.30586395 -1.78130777  7.98193089] 0.27338982900832914\n",
      "8000 [-10.04075209  -1.35657036  -1.99546097   8.51208184] 0.26558808403656786\n",
      "9000 [-10.67239108  -1.40571631  -2.1950503    9.01453862] 0.2586491627848389\n",
      "10000 [-11.27241705  -1.45342424  -2.38315559   9.49424167] 0.25236965480682827\n"
     ]
    }
   ],
   "source": [
    "# w = eval_LR_model(X_st, y, 2000, 1e-1)\n",
    "\n",
    "w = eval_LR_model(X_st, y, 10000, 1e-1)  # err <= 0.3"
   ]
  },
  {
   "cell_type": "code",
   "execution_count": 57,
   "id": "e003f9ef",
   "metadata": {},
   "outputs": [],
   "source": [
    "# w = eval_LR_model(X_st, y, 300000, 1e-1)  # err <= 0.1"
   ]
  },
  {
   "cell_type": "markdown",
   "id": "7fcd6435",
   "metadata": {},
   "source": [
    "3. Создайте функцию `calc_pred_proba`, возвращающую предсказанную вероятность класса 1 (на вход подаются значения признаков Х и веса, которые уже посчитаны функцией `eval_LR_model`, на выходе - массив `y_pred_proba`)."
   ]
  },
  {
   "cell_type": "code",
   "execution_count": 58,
   "id": "c9f70181",
   "metadata": {},
   "outputs": [],
   "source": [
    "def calc_pred_proba(w, X_st):\n",
    "    y_pred_proba = sigmoid(np.dot(X_st, w))\n",
    "    return y_pred_proba"
   ]
  },
  {
   "cell_type": "code",
   "execution_count": 59,
   "id": "e86ea902",
   "metadata": {},
   "outputs": [
    {
     "data": {
      "text/plain": [
       "array([0.2896499 , 0.13238445, 0.99730871, 0.19963747, 0.73522164,\n",
       "       0.28534702, 0.99936607, 0.08615041, 0.34268615, 0.99086395])"
      ]
     },
     "execution_count": 59,
     "metadata": {},
     "output_type": "execute_result"
    }
   ],
   "source": [
    "calc_pred_proba(w, X_st)"
   ]
  },
  {
   "cell_type": "markdown",
   "id": "6d001410",
   "metadata": {},
   "source": [
    "4. Создайте функцию `calc_pred`, возвращающую предсказанный класс (на вход подаются значения признаков Х и веса, которые уже посчитаны функцией `eval_LR_model`, а также порог вероятности, на выходе - массив `y_pred`)."
   ]
  },
  {
   "cell_type": "code",
   "execution_count": 60,
   "id": "9a7b994d",
   "metadata": {},
   "outputs": [],
   "source": [
    "def calc_pred(w, X_st):\n",
    "    y_pred = sigmoid(np.dot(X_st, w))\n",
    "    for i in range(y_pred.shape[0]):\n",
    "        if y_pred[i] > 0.5: \n",
    "            y_pred[i] = 1\n",
    "        elif y_pred[i] <= 0.5:\n",
    "            y_pred[i] = 0\n",
    "    return y_pred"
   ]
  },
  {
   "cell_type": "code",
   "execution_count": 61,
   "id": "d111767b",
   "metadata": {},
   "outputs": [
    {
     "data": {
      "text/plain": [
       "array([0., 0., 1., 0., 1., 0., 1., 0., 0., 1.])"
      ]
     },
     "execution_count": 61,
     "metadata": {},
     "output_type": "execute_result"
    }
   ],
   "source": [
    "calc_pred(w, X_st)"
   ]
  },
  {
   "cell_type": "code",
   "execution_count": 62,
   "id": "0a55a297",
   "metadata": {},
   "outputs": [
    {
     "data": {
      "text/plain": [
       "11.512925464970229"
      ]
     },
     "execution_count": 62,
     "metadata": {},
     "output_type": "execute_result"
    }
   ],
   "source": [
    "calc_logloss(y=0, y_pred=1)"
   ]
  }
 ],
 "metadata": {
  "kernelspec": {
   "display_name": "Python 3",
   "language": "python",
   "name": "python3"
  },
  "language_info": {
   "codemirror_mode": {
    "name": "ipython",
    "version": 3
   },
   "file_extension": ".py",
   "mimetype": "text/x-python",
   "name": "python",
   "nbconvert_exporter": "python",
   "pygments_lexer": "ipython3",
   "version": "3.8.8"
  }
 },
 "nbformat": 4,
 "nbformat_minor": 5
}
