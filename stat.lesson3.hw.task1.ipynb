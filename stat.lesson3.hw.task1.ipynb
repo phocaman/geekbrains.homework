{
 "cells": [
  {
   "cell_type": "code",
   "execution_count": 49,
   "metadata": {},
   "outputs": [],
   "source": [
    "# Даны значения зарплат из выборки выпускников:\n",
    "# 100, 80, 75, 77, 89, 33, 45, 25, 65, 17, 30, 24, 57, 55, 70, 75, 65, 84, 90, 150.\n",
    "# Посчитать (желательно без использования статистических методов наподобие std, var, mean)\n",
    "# среднее арифметическое, среднее квадратичное отклонение, смещенную и несмещенную оценки дисперсий для данной выборки."
   ]
  },
  {
   "cell_type": "code",
   "execution_count": 50,
   "metadata": {},
   "outputs": [],
   "source": [
    "wages = [100, 80, 75, 77, 89, 33, 45, 25, 65, 17, 30, 24, 57, 55, 70, 75, 65, 84, 90, 150]"
   ]
  },
  {
   "cell_type": "code",
   "execution_count": 51,
   "metadata": {},
   "outputs": [
    {
     "name": "stdout",
     "output_type": "stream",
     "text": [
      "Среднее арифметическое:\n",
      "65.3\n"
     ]
    }
   ],
   "source": [
    "wages_mean = sum(wages) / len(wages)\n",
    "print(f'Среднее арифметическое:\\n{wages_mean}')"
   ]
  },
  {
   "cell_type": "code",
   "execution_count": 52,
   "metadata": {},
   "outputs": [
    {
     "name": "stdout",
     "output_type": "stream",
     "text": [
      "Среднее квадратичное отклонение:\n",
      "30.82\n"
     ]
    }
   ],
   "source": [
    "wages_std = (sum([((wage - wages_mean) ** 2) for wage in wages]) / len(wages)) ** 0.5\n",
    "print(f'Среднее квадратичное отклонение:\\n{wages_std :.2f}')"
   ]
  },
  {
   "cell_type": "code",
   "execution_count": 53,
   "metadata": {},
   "outputs": [
    {
     "name": "stdout",
     "output_type": "stream",
     "text": [
      "Смещенная дисперсия:\n",
      "950.11\n"
     ]
    }
   ],
   "source": [
    "wages_variance_biased = sum([((wage - wages_mean) ** 2) for wage in wages]) / len(wages)\n",
    "print(f'Смещенная дисперсия:\\n{wages_variance_biased :.2f}')"
   ]
  },
  {
   "cell_type": "code",
   "execution_count": 54,
   "metadata": {},
   "outputs": [
    {
     "name": "stdout",
     "output_type": "stream",
     "text": [
      "Несмещенная дисперсия:\n",
      "1000.12\n"
     ]
    }
   ],
   "source": [
    "wages_variance_unbiased = sum([((wage - wages_mean) ** 2) for wage in wages]) / (len(wages) - 1)\n",
    "print(f'Несмещенная дисперсия:\\n{wages_variance_unbiased :.2f}')"
   ]
  }
 ],
 "metadata": {
  "kernelspec": {
   "display_name": "Python 3",
   "language": "python",
   "name": "python3"
  },
  "language_info": {
   "codemirror_mode": {
    "name": "ipython",
    "version": 3
   },
   "file_extension": ".py",
   "mimetype": "text/x-python",
   "name": "python",
   "nbconvert_exporter": "python",
   "pygments_lexer": "ipython3",
   "version": "3.8.5"
  }
 },
 "nbformat": 4,
 "nbformat_minor": 4
}
