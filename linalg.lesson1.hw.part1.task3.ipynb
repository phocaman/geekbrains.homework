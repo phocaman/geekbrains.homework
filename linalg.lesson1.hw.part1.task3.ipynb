{
 "cells": [
  {
   "cell_type": "code",
   "execution_count": null,
   "metadata": {},
   "outputs": [],
   "source": [
    "# 3. Найти координаты вектора 𝑥=(2,3,5) ∈ ℝ3 в базисе 𝑏1=(0,0,10), 𝑏2=(2,0,0), 𝑏3=(0,1,0)."
   ]
  },
  {
   "cell_type": "code",
   "execution_count": 21,
   "metadata": {},
   "outputs": [],
   "source": [
    "from sympy import *"
   ]
  },
  {
   "cell_type": "code",
   "execution_count": 22,
   "metadata": {},
   "outputs": [
    {
     "data": {
      "text/latex": [
       "$\\displaystyle 20$"
      ],
      "text/plain": [
       "20"
      ]
     },
     "execution_count": 22,
     "metadata": {},
     "output_type": "execute_result"
    }
   ],
   "source": [
    "# Первый вариант решения\n",
    "\n",
    "x, y, z = symbols('x, y, z')\n",
    "a = Matrix([2, 3, 5])\n",
    "b = Matrix([\n",
    "    [0, 2, 0],\n",
    "    [0, 0, 1],\n",
    "    [10, 0, 0]\n",
    "])\n",
    "det(b)"
   ]
  },
  {
   "cell_type": "code",
   "execution_count": 23,
   "metadata": {},
   "outputs": [
    {
     "data": {
      "text/latex": [
       "$\\displaystyle \\left\\{\\left( \\frac{1}{2}, \\  1, \\  3\\right)\\right\\}$"
      ],
      "text/plain": [
       "FiniteSet((1/2, 1, 3))"
      ]
     },
     "execution_count": 23,
     "metadata": {},
     "output_type": "execute_result"
    }
   ],
   "source": [
    "linsolve((b, a), [x, y, z])"
   ]
  },
  {
   "cell_type": "code",
   "execution_count": 24,
   "metadata": {},
   "outputs": [
    {
     "data": {
      "text/latex": [
       "$\\displaystyle \\left[\\begin{matrix}0 & 2 & 0\\\\0 & 0 & 1\\\\10 & 0 & 0\\end{matrix}\\right]$"
      ],
      "text/plain": [
       "Matrix([\n",
       "[ 0, 2, 0],\n",
       "[ 0, 0, 1],\n",
       "[10, 0, 0]])"
      ]
     },
     "execution_count": 24,
     "metadata": {},
     "output_type": "execute_result"
    }
   ],
   "source": [
    "# Второй вариант решения\n",
    "\n",
    "x = Matrix([2, 3, 5])\n",
    "b1 = Matrix([0, 0, 10])\n",
    "b2 = Matrix([2, 0, 0])\n",
    "b3 = Matrix([0, 1, 0])\n",
    "T = Matrix([b1.T, b2.T, b3.T]).T\n",
    "T"
   ]
  },
  {
   "cell_type": "code",
   "execution_count": 25,
   "metadata": {},
   "outputs": [
    {
     "data": {
      "text/latex": [
       "$\\displaystyle \\left[\\begin{matrix}\\frac{1}{2}\\\\1\\\\3\\end{matrix}\\right]$"
      ],
      "text/plain": [
       "Matrix([\n",
       "[1/2],\n",
       "[  1],\n",
       "[  3]])"
      ]
     },
     "execution_count": 25,
     "metadata": {},
     "output_type": "execute_result"
    }
   ],
   "source": [
    "xn = T.inv()*x\n",
    "xn"
   ]
  }
 ],
 "metadata": {
  "kernelspec": {
   "display_name": "Python 3",
   "language": "python",
   "name": "python3"
  },
  "language_info": {
   "codemirror_mode": {
    "name": "ipython",
    "version": 3
   },
   "file_extension": ".py",
   "mimetype": "text/x-python",
   "name": "python",
   "nbconvert_exporter": "python",
   "pygments_lexer": "ipython3",
   "version": "3.8.5"
  }
 },
 "nbformat": 4,
 "nbformat_minor": 4
}
