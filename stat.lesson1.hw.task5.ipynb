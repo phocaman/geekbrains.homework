{
 "cells": [
  {
   "cell_type": "code",
   "execution_count": 9,
   "metadata": {},
   "outputs": [],
   "source": [
    "# 5. На соревновании по биатлону один из трех спортсменов стреляет и попадает в мишень.\n",
    "# Вероятность попадания для первого спортсмена равна 0.9, для второго — 0.8, для третьего — 0.6.\n",
    "# Найти вероятность того, что выстрел произведен: a) первым спортсменом, б) вторым спортсменом, в) третьим спортсменом."
   ]
  },
  {
   "cell_type": "code",
   "execution_count": 10,
   "metadata": {},
   "outputs": [],
   "source": [
    "p_ab1 = 0.9\n",
    "p_ab2 = 0.8\n",
    "p_ab3 = 0.6\n",
    "p_b = 1/3"
   ]
  },
  {
   "cell_type": "code",
   "execution_count": 11,
   "metadata": {},
   "outputs": [
    {
     "name": "stdout",
     "output_type": "stream",
     "text": [
      "Вероятность того, что выстрел произведён первым спортсменом:\n",
      "0.39130\n"
     ]
    }
   ],
   "source": [
    "p_b1a = (p_b * p_ab1) / ((p_b * p_ab1) + (p_b * p_ab2) + (p_b * p_ab3))\n",
    "print(f'Вероятность того, что выстрел произведён первым спортсменом:\\n{p_b1a :.5f}')"
   ]
  },
  {
   "cell_type": "code",
   "execution_count": 12,
   "metadata": {},
   "outputs": [
    {
     "name": "stdout",
     "output_type": "stream",
     "text": [
      "Вероятность того, что выстрел произведён вторым спортсменом:\n",
      "0.34783\n"
     ]
    }
   ],
   "source": [
    "p_b2a = (p_b * p_ab2) / ((p_b * p_ab1) + (p_b * p_ab2) + (p_b * p_ab3))\n",
    "print(f'Вероятность того, что выстрел произведён вторым спортсменом:\\n{p_b2a :.5f}')"
   ]
  },
  {
   "cell_type": "code",
   "execution_count": 13,
   "metadata": {},
   "outputs": [
    {
     "name": "stdout",
     "output_type": "stream",
     "text": [
      "Вероятность того, что выстрел произведён третьим спортсменом:\n",
      "0.26087\n"
     ]
    }
   ],
   "source": [
    "p_b3a = (p_b * p_ab3) / ((p_b * p_ab1) + (p_b * p_ab2) + (p_b * p_ab3))\n",
    "print(f'Вероятность того, что выстрел произведён третьим спортсменом:\\n{p_b3a :.5f}')"
   ]
  }
 ],
 "metadata": {
  "kernelspec": {
   "display_name": "Python 3",
   "language": "python",
   "name": "python3"
  },
  "language_info": {
   "codemirror_mode": {
    "name": "ipython",
    "version": 3
   },
   "file_extension": ".py",
   "mimetype": "text/x-python",
   "name": "python",
   "nbconvert_exporter": "python",
   "pygments_lexer": "ipython3",
   "version": "3.8.5"
  }
 },
 "nbformat": 4,
 "nbformat_minor": 4
}
