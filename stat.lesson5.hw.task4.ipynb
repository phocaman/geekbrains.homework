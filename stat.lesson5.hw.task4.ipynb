{
 "cells": [
  {
   "cell_type": "code",
   "execution_count": 53,
   "metadata": {},
   "outputs": [],
   "source": [
    "# 4. Продавец утверждает, что средний вес пачки печенья составляет 200 г.\n",
    "# Из партии извлечена выборка из 10 пачек. Вес каждой пачки составляет:\n",
    "# 202, 203, 199, 197, 195, 201, 200, 204, 194, 190.\n",
    "# Известно, что их веса распределены нормально.\n",
    "# Верно ли утверждение продавца, если учитывать, что доверительная вероятность равна 99%?"
   ]
  },
  {
   "cell_type": "code",
   "execution_count": 54,
   "metadata": {},
   "outputs": [],
   "source": [
    "H0 = 200\n",
    "n = 10\n",
    "# gamma = 0.99\n",
    "alpha = 0.01\n",
    "weights = [202, 203, 199, 197, 195, 201, 200, 204, 194, 190]"
   ]
  },
  {
   "cell_type": "code",
   "execution_count": 55,
   "metadata": {},
   "outputs": [
    {
     "name": "stdout",
     "output_type": "stream",
     "text": [
      "Выборочная средняя:\n",
      "198.50\n"
     ]
    }
   ],
   "source": [
    "weights_mean = sum(weights) / len(weights)\n",
    "print(f'Выборочная средняя:\\n{weights_mean :.2f}')"
   ]
  },
  {
   "cell_type": "code",
   "execution_count": 56,
   "metadata": {},
   "outputs": [
    {
     "name": "stdout",
     "output_type": "stream",
     "text": [
      "Несмещённая дисперсия:\n",
      "19.8333\n"
     ]
    }
   ],
   "source": [
    "weights_variance_unbiased = sum([((weight - weights_mean) ** 2) for weight in weights]) / (len(weights) - 1)\n",
    "print(f'Несмещённая дисперсия:\\n{weights_variance_unbiased :.4f}')"
   ]
  },
  {
   "cell_type": "code",
   "execution_count": 57,
   "metadata": {},
   "outputs": [
    {
     "name": "stdout",
     "output_type": "stream",
     "text": [
      "Среднее квадратическое отклонение:\n",
      "4.4535\n"
     ]
    }
   ],
   "source": [
    "weights_std_unbiased = weights_variance_unbiased ** 0.5\n",
    "print(f'Среднее квадратическое отклонение:\\n{weights_std_unbiased :.4f}')"
   ]
  },
  {
   "cell_type": "code",
   "execution_count": 58,
   "metadata": {},
   "outputs": [],
   "source": [
    "H1 = weights_mean"
   ]
  },
  {
   "cell_type": "code",
   "execution_count": 59,
   "metadata": {},
   "outputs": [
    {
     "name": "stdout",
     "output_type": "stream",
     "text": [
      "0.49\n"
     ]
    }
   ],
   "source": [
    "Phi = (1 - (2 * alpha)) / 2  # Phi(u_critical) \n",
    "print(Phi)"
   ]
  },
  {
   "cell_type": "code",
   "execution_count": 60,
   "metadata": {},
   "outputs": [],
   "source": [
    "u_critical = 2.33  # согласно таблице значений функции Лапласа\n",
    "neg_u_critical = -2.33"
   ]
  },
  {
   "cell_type": "code",
   "execution_count": 61,
   "metadata": {},
   "outputs": [
    {
     "name": "stdout",
     "output_type": "stream",
     "text": [
      "-1.0651\n"
     ]
    }
   ],
   "source": [
    "u_observed = ((H1 - H0) * (n ** 0.5)) / weights_std_unbiased\n",
    "print(f'{u_observed :.4f}')"
   ]
  },
  {
   "cell_type": "code",
   "execution_count": 62,
   "metadata": {},
   "outputs": [
    {
     "name": "stdout",
     "output_type": "stream",
     "text": [
      "-1.0651 > -2.33 => Гипотеза H0 принимается.\n"
     ]
    }
   ],
   "source": [
    "if u_observed > neg_u_critical:\n",
    "    print(f'{u_observed :.4f} > {neg_u_critical} => Гипотеза H0 принимается.')\n",
    "else:\n",
    "    print(f'{u_observed :.4f} < {neg_u_critical} => Гипотеза H0 отвергается.')"
   ]
  }
 ],
 "metadata": {
  "kernelspec": {
   "display_name": "Python 3",
   "language": "python",
   "name": "python3"
  },
  "language_info": {
   "codemirror_mode": {
    "name": "ipython",
    "version": 3
   },
   "file_extension": ".py",
   "mimetype": "text/x-python",
   "name": "python",
   "nbconvert_exporter": "python",
   "pygments_lexer": "ipython3",
   "version": "3.8.5"
  }
 },
 "nbformat": 4,
 "nbformat_minor": 4
}
