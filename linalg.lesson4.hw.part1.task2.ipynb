{
 "cells": [
  {
   "cell_type": "code",
   "execution_count": 55,
   "metadata": {},
   "outputs": [],
   "source": [
    "# 2. Проверить на совместность и выяснить, сколько решений будет иметь система линейных уравнений."
   ]
  },
  {
   "cell_type": "code",
   "execution_count": 56,
   "metadata": {},
   "outputs": [],
   "source": [
    "from sympy import *"
   ]
  },
  {
   "cell_type": "code",
   "execution_count": 57,
   "metadata": {},
   "outputs": [],
   "source": [
    "# a)"
   ]
  },
  {
   "cell_type": "code",
   "execution_count": 58,
   "metadata": {},
   "outputs": [],
   "source": [
    "a = Matrix([[3, -1, 1], [2, -5, -3], [1, 1, -1]])\n",
    "ab = Matrix([[3, -1, 1, 4], [2, -5, -3, 17], [1, 1, -1, 0]])"
   ]
  },
  {
   "cell_type": "code",
   "execution_count": 59,
   "metadata": {},
   "outputs": [
    {
     "name": "stdout",
     "output_type": "stream",
     "text": [
      "Ранг матрицы системы:\n",
      "3\n"
     ]
    }
   ],
   "source": [
    "print(f'Ранг матрицы системы:\\n{a.rank()}')\n",
    "# Результат: 3"
   ]
  },
  {
   "cell_type": "code",
   "execution_count": 60,
   "metadata": {},
   "outputs": [
    {
     "name": "stdout",
     "output_type": "stream",
     "text": [
      "Ранг расширенной матрицы:\n",
      "3\n"
     ]
    }
   ],
   "source": [
    "print(f'Ранг расширенной матрицы:\\n{ab.rank()}')\n",
    "# Результат: 3"
   ]
  },
  {
   "cell_type": "code",
   "execution_count": 61,
   "metadata": {},
   "outputs": [],
   "source": [
    "# Система совместна, т. к. ранг матрицы системы равен рангу расширенной матрицы. Система имеет единственное решение,\n",
    "# т. к. ранг матрицы равен числу неизвестных."
   ]
  },
  {
   "cell_type": "code",
   "execution_count": 62,
   "metadata": {},
   "outputs": [],
   "source": [
    "# б)"
   ]
  },
  {
   "cell_type": "code",
   "execution_count": 63,
   "metadata": {},
   "outputs": [],
   "source": [
    "a = Matrix([[2, -4, 6], [1, -2, 3], [3, -6, 9]])\n",
    "ab = Matrix([[2, -4, 6, 1], [1, -2, 3, -2], [3, -6, 9, 5]])"
   ]
  },
  {
   "cell_type": "code",
   "execution_count": 64,
   "metadata": {},
   "outputs": [
    {
     "name": "stdout",
     "output_type": "stream",
     "text": [
      "Ранг матрицы системы:\n",
      "1\n"
     ]
    }
   ],
   "source": [
    "print(f'Ранг матрицы системы:\\n{a.rank()}')\n",
    "# Результат: 1"
   ]
  },
  {
   "cell_type": "code",
   "execution_count": 65,
   "metadata": {},
   "outputs": [
    {
     "name": "stdout",
     "output_type": "stream",
     "text": [
      "Ранг расширенной матрицы:\n",
      "2\n"
     ]
    }
   ],
   "source": [
    "print(f'Ранг расширенной матрицы:\\n{ab.rank()}')\n",
    "# Результат: 2"
   ]
  },
  {
   "cell_type": "code",
   "execution_count": 66,
   "metadata": {},
   "outputs": [],
   "source": [
    "# Система несовместна, т. к. ранг матрицы системы меньше ранга расширенной системы. => Система не имеет решений."
   ]
  },
  {
   "cell_type": "code",
   "execution_count": 67,
   "metadata": {},
   "outputs": [],
   "source": [
    "# в)"
   ]
  },
  {
   "cell_type": "code",
   "execution_count": 68,
   "metadata": {},
   "outputs": [],
   "source": [
    "a = Matrix([[1, 2, 5], [3, 1, -8]])\n",
    "ab = Matrix([[1, 2, 5, 4], [3, 1, -8, -2]])"
   ]
  },
  {
   "cell_type": "code",
   "execution_count": 69,
   "metadata": {},
   "outputs": [
    {
     "name": "stdout",
     "output_type": "stream",
     "text": [
      "Ранг матрицы системы:\n",
      "2\n"
     ]
    }
   ],
   "source": [
    "print(f'Ранг матрицы системы:\\n{a.rank()}')\n",
    "# Результат: 2"
   ]
  },
  {
   "cell_type": "code",
   "execution_count": 70,
   "metadata": {},
   "outputs": [
    {
     "name": "stdout",
     "output_type": "stream",
     "text": [
      "Ранг расширенной матрицы:\n",
      "2\n"
     ]
    }
   ],
   "source": [
    "print(f'Ранг расширенной матрицы:\\n{ab.rank()}')\n",
    "# Результат: 2"
   ]
  },
  {
   "cell_type": "code",
   "execution_count": null,
   "metadata": {},
   "outputs": [],
   "source": [
    "# Система совместна, т. к. ранг матрицы системы равен рангу расширенной матрицы. Система имеет бесконечное множество решений,\n",
    "# т. к. ранг матрицы системы меньше числа неизвестных."
   ]
  }
 ],
 "metadata": {
  "kernelspec": {
   "display_name": "Python 3",
   "language": "python",
   "name": "python3"
  },
  "language_info": {
   "codemirror_mode": {
    "name": "ipython",
    "version": 3
   },
   "file_extension": ".py",
   "mimetype": "text/x-python",
   "name": "python",
   "nbconvert_exporter": "python",
   "pygments_lexer": "ipython3",
   "version": "3.8.5"
  }
 },
 "nbformat": 4,
 "nbformat_minor": 4
}
