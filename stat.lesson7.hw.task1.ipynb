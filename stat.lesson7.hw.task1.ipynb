{
 "cells": [
  {
   "cell_type": "code",
   "execution_count": 34,
   "metadata": {},
   "outputs": [],
   "source": [
    "# 1. Даны значения величины заработной платы заемщиков банка (zp) и значения их поведенческого кредитного скоринга (ks):\n",
    "# zp = [35, 45, 190, 200, 40, 70, 54, 150, 120, 110],\n",
    "# ks = [401, 574, 874, 919, 459, 739, 653, 902, 746, 832].\n",
    "# Используя математические операции, посчитать коэффициенты линейной регрессии,\n",
    "# приняв за X заработную плату (то есть, zp - признак),\n",
    "# а за y - значения скорингового балла (то есть, ks - целевая переменная).\n",
    "# Произвести расчет как с использованием intercept, так и без."
   ]
  },
  {
   "cell_type": "code",
   "execution_count": 35,
   "metadata": {},
   "outputs": [],
   "source": [
    "zp = [35, 45, 190, 200, 40, 70, 54, 150, 120, 110]\n",
    "ks = [401, 574, 874, 919, 459, 739, 653, 902, 746, 832]"
   ]
  },
  {
   "cell_type": "code",
   "execution_count": 36,
   "metadata": {},
   "outputs": [],
   "source": [
    "mean_zp = sum(zp) / len(zp)\n",
    "mean_ks = sum(ks) / len(ks)\n",
    "std_zp = (sum([((el - mean_zp) ** 2) for el in zp]) / (len(zp) - 1)) ** 0.5\n",
    "std_ks = (sum([((el - mean_ks) ** 2) for el in ks]) / (len(ks) - 1)) ** 0.5"
   ]
  },
  {
   "cell_type": "code",
   "execution_count": 37,
   "metadata": {},
   "outputs": [],
   "source": [
    "zp_ks_prod = [i * j for i, j in zip(zp, ks)]\n",
    "zp_sq = list(map(lambda x: pow(x, 2), zp))\n",
    "zp_ks_prod_mean = sum(zp_ks_prod) / len(zp_ks_prod)\n",
    "zp_sq_mean = sum(zp_sq) / len(zp_sq)"
   ]
  },
  {
   "cell_type": "code",
   "execution_count": 38,
   "metadata": {},
   "outputs": [
    {
     "name": "stdout",
     "output_type": "stream",
     "text": [
      "2.620538882402765\n",
      "444.1773573243596\n"
     ]
    }
   ],
   "source": [
    "b = (zp_ks_prod_mean - (mean_zp * mean_ks)) / (zp_sq_mean - ((mean_zp) ** 2))\n",
    "a = mean_ks - (b * mean_zp)\n",
    "print(b)\n",
    "print(a)"
   ]
  },
  {
   "cell_type": "code",
   "execution_count": null,
   "metadata": {},
   "outputs": [],
   "source": [
    "# Проверка через Numpy"
   ]
  },
  {
   "cell_type": "code",
   "execution_count": 39,
   "metadata": {},
   "outputs": [],
   "source": [
    "import numpy as np"
   ]
  },
  {
   "cell_type": "code",
   "execution_count": 40,
   "metadata": {},
   "outputs": [],
   "source": [
    "zp = np.array([35, 45, 190, 200, 40, 70, 54, 150, 120, 110])\n",
    "ks = np.array([401, 574, 874, 919, 459, 739, 653, 902, 746, 832])"
   ]
  },
  {
   "cell_type": "code",
   "execution_count": 41,
   "metadata": {},
   "outputs": [
    {
     "name": "stdout",
     "output_type": "stream",
     "text": [
      "2.620538882402765\n",
      "444.1773573243596\n"
     ]
    }
   ],
   "source": [
    "b = (np.mean(zp * ks) - np.mean(zp) * np.mean(ks)) / (np.mean(zp ** 2) - np.mean(zp) ** 2)\n",
    "a = np.mean(ks) - b * np.mean(zp)\n",
    "print(b)\n",
    "print(a)"
   ]
  }
 ],
 "metadata": {
  "kernelspec": {
   "display_name": "Python 3",
   "language": "python",
   "name": "python3"
  },
  "language_info": {
   "codemirror_mode": {
    "name": "ipython",
    "version": 3
   },
   "file_extension": ".py",
   "mimetype": "text/x-python",
   "name": "python",
   "nbconvert_exporter": "python",
   "pygments_lexer": "ipython3",
   "version": "3.8.5"
  }
 },
 "nbformat": 4,
 "nbformat_minor": 4
}
