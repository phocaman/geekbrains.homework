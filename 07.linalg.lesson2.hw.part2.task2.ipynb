{
 "cells": [
  {
   "cell_type": "code",
   "execution_count": 469,
   "metadata": {},
   "outputs": [],
   "source": [
    "# 2. Определитель матрицы 𝐴 равен 4. Найти:\n",
    "# а) 𝑑𝑒𝑡(𝐴^2);\n",
    "# б) 𝑑𝑒𝑡(𝐴𝑇);\n",
    "# в) 𝑑𝑒𝑡(2𝐴).\n",
    "\n",
    "# Ответ:\n",
    "# Если det(A) = 4, то det(A^2) = 16, det(AT) = 4, det(2A) = 16.\n",
    "\n",
    "# Проверка:"
   ]
  },
  {
   "cell_type": "code",
   "execution_count": 470,
   "metadata": {},
   "outputs": [],
   "source": [
    "from sympy import *"
   ]
  },
  {
   "cell_type": "code",
   "execution_count": 471,
   "metadata": {},
   "outputs": [],
   "source": [
    "a = Matrix([[6, 2],\n",
    "            [1, 1]])"
   ]
  },
  {
   "cell_type": "code",
   "execution_count": 472,
   "metadata": {},
   "outputs": [
    {
     "name": "stdout",
     "output_type": "stream",
     "text": [
      "Определитель матрицы A:\n",
      "4\n"
     ]
    }
   ],
   "source": [
    "print(f'Определитель матрицы A:\\n{det(a)}')"
   ]
  },
  {
   "cell_type": "code",
   "execution_count": 473,
   "metadata": {},
   "outputs": [
    {
     "data": {
      "text/latex": [
       "$\\displaystyle \\left[\\begin{matrix}38 & 14\\\\7 & 3\\end{matrix}\\right]$"
      ],
      "text/plain": [
       "Matrix([\n",
       "[38, 14],\n",
       "[ 7,  3]])"
      ]
     },
     "execution_count": 473,
     "metadata": {},
     "output_type": "execute_result"
    }
   ],
   "source": [
    "b = a**2\n",
    "b"
   ]
  },
  {
   "cell_type": "code",
   "execution_count": 474,
   "metadata": {},
   "outputs": [
    {
     "name": "stdout",
     "output_type": "stream",
     "text": [
      "Определитель матрицы A^2:\n",
      "16\n"
     ]
    }
   ],
   "source": [
    "print(f'Определитель матрицы A^2:\\n{det(b)}')"
   ]
  },
  {
   "cell_type": "code",
   "execution_count": 475,
   "metadata": {},
   "outputs": [
    {
     "data": {
      "text/latex": [
       "$\\displaystyle \\left[\\begin{matrix}6 & 1\\\\2 & 1\\end{matrix}\\right]$"
      ],
      "text/plain": [
       "Matrix([\n",
       "[6, 1],\n",
       "[2, 1]])"
      ]
     },
     "execution_count": 475,
     "metadata": {},
     "output_type": "execute_result"
    }
   ],
   "source": [
    "c = a.T\n",
    "c"
   ]
  },
  {
   "cell_type": "code",
   "execution_count": 476,
   "metadata": {},
   "outputs": [
    {
     "name": "stdout",
     "output_type": "stream",
     "text": [
      "Определитель матрицы AT:\n",
      "4\n"
     ]
    }
   ],
   "source": [
    "print(f'Определитель матрицы AT:\\n{det(c)}')"
   ]
  },
  {
   "cell_type": "code",
   "execution_count": 477,
   "metadata": {},
   "outputs": [
    {
     "data": {
      "text/latex": [
       "$\\displaystyle \\left[\\begin{matrix}12 & 4\\\\2 & 2\\end{matrix}\\right]$"
      ],
      "text/plain": [
       "Matrix([\n",
       "[12, 4],\n",
       "[ 2, 2]])"
      ]
     },
     "execution_count": 477,
     "metadata": {},
     "output_type": "execute_result"
    }
   ],
   "source": [
    "d = a*2\n",
    "d"
   ]
  },
  {
   "cell_type": "code",
   "execution_count": 478,
   "metadata": {},
   "outputs": [
    {
     "name": "stdout",
     "output_type": "stream",
     "text": [
      "Определитель матрицы 2A:\n",
      "16\n"
     ]
    }
   ],
   "source": [
    "print(f'Определитель матрицы 2A:\\n{det(d)}')"
   ]
  }
 ],
 "metadata": {
  "kernelspec": {
   "display_name": "Python 3",
   "language": "python",
   "name": "python3"
  },
  "language_info": {
   "codemirror_mode": {
    "name": "ipython",
    "version": 3
   },
   "file_extension": ".py",
   "mimetype": "text/x-python",
   "name": "python",
   "nbconvert_exporter": "python",
   "pygments_lexer": "ipython3",
   "version": "3.8.5"
  }
 },
 "nbformat": 4,
 "nbformat_minor": 4
}
