{
 "cells": [
  {
   "cell_type": "code",
   "execution_count": 500,
   "metadata": {},
   "outputs": [],
   "source": [
    "# 1. Найти скалярное произведение векторов  𝑥,𝑦 ∈ ℝ :"
   ]
  },
  {
   "cell_type": "code",
   "execution_count": 501,
   "metadata": {},
   "outputs": [],
   "source": [
    "import numpy as np"
   ]
  },
  {
   "cell_type": "code",
   "execution_count": 502,
   "metadata": {},
   "outputs": [],
   "source": [
    "# а) 𝑥=(0,−3,6), 𝑦=(−4,7,9); "
   ]
  },
  {
   "cell_type": "code",
   "execution_count": 503,
   "metadata": {},
   "outputs": [
    {
     "name": "stdout",
     "output_type": "stream",
     "text": [
      "Скалярное произведение векторов x и y = 33\n"
     ]
    }
   ],
   "source": [
    "x = np.array([0, -3, 6])\n",
    "y = np.array([-4, 7, 9])\n",
    "xy_dot_product = np.dot(x, y)\n",
    "print(f'Скалярное произведение векторов x и y = {xy_dot_product}')"
   ]
  },
  {
   "cell_type": "code",
   "execution_count": 504,
   "metadata": {},
   "outputs": [],
   "source": [
    "# б) 𝑥=(7,−4,0,1), 𝑦=(−3,1,11,2)."
   ]
  },
  {
   "cell_type": "code",
   "execution_count": 505,
   "metadata": {},
   "outputs": [
    {
     "name": "stdout",
     "output_type": "stream",
     "text": [
      "Скалярное произведение векторов x и y = -23\n"
     ]
    }
   ],
   "source": [
    "x = np.array([7, -4, 0, 1])\n",
    "y = np.array([-3, 1, 11, 2])\n",
    "xy_dot_product = np.dot(x, y)\n",
    "print(f'Скалярное произведение векторов x и y = {xy_dot_product}')"
   ]
  },
  {
   "cell_type": "code",
   "execution_count": 506,
   "metadata": {},
   "outputs": [],
   "source": [
    "# 2. Найти нормы векторов (4,2,4) и (12,3,4) и угол между ними."
   ]
  },
  {
   "cell_type": "code",
   "execution_count": 507,
   "metadata": {},
   "outputs": [],
   "source": [
    "import math\n",
    "from numpy.linalg import norm\n",
    "\n",
    "a = np.array([4, 2, 4])\n",
    "b = np.array([12, 3, 4])"
   ]
  },
  {
   "cell_type": "code",
   "execution_count": 508,
   "metadata": {},
   "outputs": [
    {
     "name": "stdout",
     "output_type": "stream",
     "text": [
      "Норма вектора a = 6.0\n"
     ]
    }
   ],
   "source": [
    "a_norm = np.linalg.norm(a)\n",
    "print(f'Норма вектора a = {a_norm}')"
   ]
  },
  {
   "cell_type": "code",
   "execution_count": 509,
   "metadata": {},
   "outputs": [
    {
     "name": "stdout",
     "output_type": "stream",
     "text": [
      "Норма вектора b = 13.0\n"
     ]
    }
   ],
   "source": [
    "b_norm = np.linalg.norm(b)\n",
    "print(f'Норма вектора b = {b_norm}')"
   ]
  },
  {
   "cell_type": "code",
   "execution_count": 510,
   "metadata": {},
   "outputs": [],
   "source": [
    "unit_a = a / a_norm\n",
    "unit_b = b / b_norm\n",
    "ab_dot_product = np.dot(unit_a, unit_b)"
   ]
  },
  {
   "cell_type": "code",
   "execution_count": 511,
   "metadata": {},
   "outputs": [
    {
     "name": "stdout",
     "output_type": "stream",
     "text": [
      "Угол между векторами a и b = 26 градусов\n"
     ]
    }
   ],
   "source": [
    "ab_angle = int(math.degrees(np.arccos(ab_dot_product)))\n",
    "print(f'Угол между векторами a и b = {ab_angle} градусов')"
   ]
  },
  {
   "cell_type": "code",
   "execution_count": 512,
   "metadata": {},
   "outputs": [],
   "source": [
    "# 4. Какие из нижеперечисленных векторов образуют ортонормированный базис в линейном пространстве ℝ3:\n",
    "# а) (1,0,0),(0,0,1); \n",
    "# б) (1/√2,−1/√2,0),(1/√2,1/√2,0),(0,0,1); \n",
    "# в) (1/2,−1/2,0),(0,1/2,1/2),(0,0,1); \n",
    "# г) (1,0,0),(0,1,0),(0,0,1)?"
   ]
  },
  {
   "cell_type": "code",
   "execution_count": 513,
   "metadata": {},
   "outputs": [],
   "source": [
    "# а) (1,0,0),(0,0,1)"
   ]
  },
  {
   "cell_type": "code",
   "execution_count": 514,
   "metadata": {},
   "outputs": [
    {
     "name": "stdout",
     "output_type": "stream",
     "text": [
      "0\n"
     ]
    }
   ],
   "source": [
    "a = np.array([1, 0, 0])\n",
    "b = np.array([0, 0, 1])\n",
    "ab_dot_product = np.dot(a, b)\n",
    "print(ab_dot_product)"
   ]
  },
  {
   "cell_type": "code",
   "execution_count": null,
   "metadata": {},
   "outputs": [],
   "source": [
    "# а) Образуют."
   ]
  },
  {
   "cell_type": "code",
   "execution_count": 515,
   "metadata": {},
   "outputs": [],
   "source": [
    "# б) (1/√2,−1/√2,0),(1/√2,1/√2,0),(0,0,1)"
   ]
  },
  {
   "cell_type": "code",
   "execution_count": 516,
   "metadata": {},
   "outputs": [
    {
     "name": "stdout",
     "output_type": "stream",
     "text": [
      "[0. 0. 0.]\n"
     ]
    }
   ],
   "source": [
    "a = np.array([1/(2**1/2), -1/(2**1/2), 0])\n",
    "b = np.array([1/(2**1/2), 1/(2**1/2), 0])\n",
    "c = np.array([0, 0, 1])\n",
    "abc_dot_product = np.dot(np.dot(a, b), c)\n",
    "print(abc_dot_product)"
   ]
  },
  {
   "cell_type": "code",
   "execution_count": null,
   "metadata": {},
   "outputs": [],
   "source": [
    "# б) Образуют."
   ]
  },
  {
   "cell_type": "code",
   "execution_count": 517,
   "metadata": {},
   "outputs": [],
   "source": [
    "# в) (1/2,−1/2,0),(0,1/2,1/2),(0,0,1)"
   ]
  },
  {
   "cell_type": "code",
   "execution_count": 518,
   "metadata": {},
   "outputs": [
    {
     "name": "stdout",
     "output_type": "stream",
     "text": [
      "[ 0.    0.   -0.25]\n"
     ]
    }
   ],
   "source": [
    "a = np.array([1/2, -1/2, 0])\n",
    "b = np.array([0, 1/2, 1/2])\n",
    "c = np.array([0, 0, 1])\n",
    "abc_dot_product = np.dot(np.dot(a, b), c)\n",
    "print(abc_dot_product)"
   ]
  },
  {
   "cell_type": "code",
   "execution_count": null,
   "metadata": {},
   "outputs": [],
   "source": [
    "# в) Не образуют."
   ]
  },
  {
   "cell_type": "code",
   "execution_count": 519,
   "metadata": {},
   "outputs": [],
   "source": [
    "# г) (1,0,0),(0,1,0),(0,0,1)"
   ]
  },
  {
   "cell_type": "code",
   "execution_count": 520,
   "metadata": {},
   "outputs": [
    {
     "name": "stdout",
     "output_type": "stream",
     "text": [
      "[0 0 0]\n"
     ]
    }
   ],
   "source": [
    "a = np.array([1, 0, 0])\n",
    "b = np.array([0, 1, 0])\n",
    "c = np.array([0, 0, 1])\n",
    "abc_dot_product = np.dot(np.dot(a, b), c)\n",
    "print(abc_dot_product)"
   ]
  },
  {
   "cell_type": "code",
   "execution_count": null,
   "metadata": {},
   "outputs": [],
   "source": [
    "# г) Образуют."
   ]
  }
 ],
 "metadata": {
  "kernelspec": {
   "display_name": "Python 3",
   "language": "python",
   "name": "python3"
  },
  "language_info": {
   "codemirror_mode": {
    "name": "ipython",
    "version": 3
   },
   "file_extension": ".py",
   "mimetype": "text/x-python",
   "name": "python",
   "nbconvert_exporter": "python",
   "pygments_lexer": "ipython3",
   "version": "3.8.5"
  }
 },
 "nbformat": 4,
 "nbformat_minor": 4
}
