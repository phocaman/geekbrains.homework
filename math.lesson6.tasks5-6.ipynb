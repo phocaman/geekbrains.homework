{
 "cells": [
  {
   "cell_type": "code",
   "execution_count": 1,
   "metadata": {},
   "outputs": [],
   "source": [
    "import itertools"
   ]
  },
  {
   "cell_type": "code",
   "execution_count": 2,
   "metadata": {},
   "outputs": [],
   "source": [
    "# Задание 5\n",
    "\n",
    "# Телефонный номер состоит из 7 цифр. Какова вероятность, что это номер 8882777?"
   ]
  },
  {
   "cell_type": "code",
   "execution_count": 3,
   "metadata": {},
   "outputs": [
    {
     "name": "stdout",
     "output_type": "stream",
     "text": [
      "10000000\n",
      "1e-07\n"
     ]
    }
   ],
   "source": [
    "n = 0\n",
    "for p in itertools.product('0123456789', repeat=7):\n",
    "    # print(''.join(p))\n",
    "    n += 1\n",
    "print(n)  # 10000000 или 10^7\n",
    "\n",
    "m = 1\n",
    "p = m / n\n",
    "print(p)  # 1/10^7"
   ]
  },
  {
   "cell_type": "code",
   "execution_count": 4,
   "metadata": {},
   "outputs": [],
   "source": [
    "# Задание 6\n",
    "\n",
    "# Набирая номер телефона, абонент забыл 2 последние цифры, и, помня только то,\n",
    "# что эти цифры различны и среди них нет нуля, стал набирать их наудачу.\n",
    "# Сколько вариантов ему надо перебрать, чтобы наверняка найти нужный номер?\n",
    "# Какова вероятность того, что он угадает номер с первого раза?"
   ]
  },
  {
   "cell_type": "code",
   "execution_count": 5,
   "metadata": {},
   "outputs": [
    {
     "name": "stdout",
     "output_type": "stream",
     "text": [
      "72\n",
      "0.013888888888888888\n"
     ]
    }
   ],
   "source": [
    "n = 0\n",
    "for p in itertools.permutations('123456789', 2):\n",
    "    # print(''.join(p))\n",
    "    n += 1\n",
    "print(n)  # 72\n",
    "\n",
    "m = 1\n",
    "p = m / n\n",
    "print(p)  # 1/72"
   ]
  }
 ],
 "metadata": {
  "kernelspec": {
   "display_name": "Python 3",
   "language": "python",
   "name": "python3"
  },
  "language_info": {
   "codemirror_mode": {
    "name": "ipython",
    "version": 3
   },
   "file_extension": ".py",
   "mimetype": "text/x-python",
   "name": "python",
   "nbconvert_exporter": "python",
   "pygments_lexer": "ipython3",
   "version": "3.8.5"
  }
 },
 "nbformat": 4,
 "nbformat_minor": 4
}
